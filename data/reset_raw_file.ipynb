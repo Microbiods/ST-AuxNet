{
 "cells": [
  {
   "cell_type": "code",
   "execution_count": 76,
   "metadata": {},
   "outputs": [
    {
     "output_type": "execute_result",
     "data": {
      "text/plain": [
       "'\\n\\n# The file here is to reset the file setting for ST-Net.\\n# After downloading the raw files, we need to revise the file name as:\\n\\n# file_root = root + \"/\" + subtype + \"/\" + patient + \"/\" + patient + \"_\" + section\\n'"
      ]
     },
     "metadata": {},
     "execution_count": 76
    }
   ],
   "source": [
    "'''\n",
    "\n",
    "# The file here is to reset the file setting for ST-Net.\n",
    "# After downloading the raw files, we need to revise the file name as:\n",
    "\n",
    "# file_root = root + \"/\" + subtype + \"/\" + patient + \"/\" + patient + \"_\" + section\n",
    "'''"
   ]
  },
  {
   "cell_type": "code",
   "execution_count": 89,
   "metadata": {},
   "outputs": [],
   "source": [
    "import pandas as pd\n",
    "import numpy as np\n",
    "import os      \n",
    "import staintools\n",
    "from PIL import Image\n",
    "import skimage.io\n",
    "import cv2 as cv\n",
    "Image.MAX_IMAGE_PIXELS = 1000000000    "
   ]
  },
  {
   "cell_type": "code",
   "execution_count": 81,
   "metadata": {},
   "outputs": [],
   "source": [
    "target = staintools.read_image(\"/home/chenxingjian/PycharmProjects/mnt/mnt_project/FromZerotoOne_CN/normalization/target.jpg\")\n",
    "normalizer = staintools.StainNormalizer(method='vahadane')\n",
    "normalizer.fit(target)"
   ]
  },
  {
   "cell_type": "code",
   "execution_count": 91,
   "metadata": {},
   "outputs": [
    {
     "output_type": "error",
     "ename": "KeyboardInterrupt",
     "evalue": "",
     "traceback": [
      "\u001b[0;31m---------------------------------------------------------------------------\u001b[0m",
      "\u001b[0;31mKeyboardInterrupt\u001b[0m                         Traceback (most recent call last)",
      "\u001b[0;32m<ipython-input-91-4a87af596003>\u001b[0m in \u001b[0;36m<module>\u001b[0;34m\u001b[0m\n\u001b[1;32m      5\u001b[0m     \u001b[0;32mif\u001b[0m \u001b[0mi\u001b[0m\u001b[0;34m.\u001b[0m\u001b[0msplit\u001b[0m\u001b[0;34m(\u001b[0m\u001b[0;34m'.'\u001b[0m\u001b[0;34m)\u001b[0m\u001b[0;34m[\u001b[0m\u001b[0;36m1\u001b[0m\u001b[0;34m]\u001b[0m\u001b[0;34m==\u001b[0m\u001b[0;34m'jpg'\u001b[0m\u001b[0;34m:\u001b[0m\u001b[0;34m\u001b[0m\u001b[0;34m\u001b[0m\u001b[0m\n\u001b[1;32m      6\u001b[0m         \u001b[0mimage\u001b[0m \u001b[0;34m=\u001b[0m \u001b[0mstaintools\u001b[0m\u001b[0;34m.\u001b[0m\u001b[0mread_image\u001b[0m\u001b[0;34m(\u001b[0m\u001b[0mi\u001b[0m\u001b[0;34m)\u001b[0m\u001b[0;34m\u001b[0m\u001b[0;34m\u001b[0m\u001b[0m\n\u001b[0;32m----> 7\u001b[0;31m         \u001b[0mtransformed\u001b[0m \u001b[0;34m=\u001b[0m \u001b[0mnormalizer\u001b[0m\u001b[0;34m.\u001b[0m\u001b[0mtransform\u001b[0m\u001b[0;34m(\u001b[0m\u001b[0mimage\u001b[0m\u001b[0;34m)\u001b[0m\u001b[0;34m\u001b[0m\u001b[0;34m\u001b[0m\u001b[0m\n\u001b[0m\u001b[1;32m      8\u001b[0m         \u001b[0mcv\u001b[0m\u001b[0;34m.\u001b[0m\u001b[0mimwrite\u001b[0m\u001b[0;34m(\u001b[0m\u001b[0mi\u001b[0m\u001b[0;34m,\u001b[0m \u001b[0mtransformed\u001b[0m\u001b[0;34m)\u001b[0m\u001b[0;34m\u001b[0m\u001b[0;34m\u001b[0m\u001b[0m\n",
      "\u001b[0;32m~/miniconda3/envs/pytorch/lib/python3.8/site-packages/staintools/stain_normalizer.py\u001b[0m in \u001b[0;36mtransform\u001b[0;34m(self, I)\u001b[0m\n\u001b[1;32m     36\u001b[0m         \u001b[0;34m:\u001b[0m\u001b[0;32mreturn\u001b[0m\u001b[0;34m:\u001b[0m\u001b[0;34m\u001b[0m\u001b[0;34m\u001b[0m\u001b[0m\n\u001b[1;32m     37\u001b[0m         \"\"\"\n\u001b[0;32m---> 38\u001b[0;31m         \u001b[0mstain_matrix_source\u001b[0m \u001b[0;34m=\u001b[0m \u001b[0mself\u001b[0m\u001b[0;34m.\u001b[0m\u001b[0mextractor\u001b[0m\u001b[0;34m.\u001b[0m\u001b[0mget_stain_matrix\u001b[0m\u001b[0;34m(\u001b[0m\u001b[0mI\u001b[0m\u001b[0;34m)\u001b[0m\u001b[0;34m\u001b[0m\u001b[0;34m\u001b[0m\u001b[0m\n\u001b[0m\u001b[1;32m     39\u001b[0m         \u001b[0msource_concentrations\u001b[0m \u001b[0;34m=\u001b[0m \u001b[0mget_concentrations\u001b[0m\u001b[0;34m(\u001b[0m\u001b[0mI\u001b[0m\u001b[0;34m,\u001b[0m \u001b[0mstain_matrix_source\u001b[0m\u001b[0;34m)\u001b[0m\u001b[0;34m\u001b[0m\u001b[0;34m\u001b[0m\u001b[0m\n\u001b[1;32m     40\u001b[0m         \u001b[0mmaxC_source\u001b[0m \u001b[0;34m=\u001b[0m \u001b[0mnp\u001b[0m\u001b[0;34m.\u001b[0m\u001b[0mpercentile\u001b[0m\u001b[0;34m(\u001b[0m\u001b[0msource_concentrations\u001b[0m\u001b[0;34m,\u001b[0m \u001b[0;36m99\u001b[0m\u001b[0;34m,\u001b[0m \u001b[0maxis\u001b[0m\u001b[0;34m=\u001b[0m\u001b[0;36m0\u001b[0m\u001b[0;34m)\u001b[0m\u001b[0;34m.\u001b[0m\u001b[0mreshape\u001b[0m\u001b[0;34m(\u001b[0m\u001b[0;34m(\u001b[0m\u001b[0;36m1\u001b[0m\u001b[0;34m,\u001b[0m \u001b[0;36m2\u001b[0m\u001b[0;34m)\u001b[0m\u001b[0;34m)\u001b[0m\u001b[0;34m\u001b[0m\u001b[0;34m\u001b[0m\u001b[0m\n",
      "\u001b[0;32m~/miniconda3/envs/pytorch/lib/python3.8/site-packages/staintools/stain_extraction/vahadane_stain_extractor.py\u001b[0m in \u001b[0;36mget_stain_matrix\u001b[0;34m(I, luminosity_threshold, regularizer)\u001b[0m\n\u001b[1;32m     28\u001b[0m \u001b[0;34m\u001b[0m\u001b[0m\n\u001b[1;32m     29\u001b[0m         \u001b[0;31m# do the dictionary learning\u001b[0m\u001b[0;34m\u001b[0m\u001b[0;34m\u001b[0m\u001b[0;34m\u001b[0m\u001b[0m\n\u001b[0;32m---> 30\u001b[0;31m         dictionary = spams.trainDL(X=OD.T, K=2, lambda1=regularizer, mode=2,\n\u001b[0m\u001b[1;32m     31\u001b[0m                                    modeD=0, posAlpha=True, posD=True, verbose=False).T\n\u001b[1;32m     32\u001b[0m \u001b[0;34m\u001b[0m\u001b[0m\n",
      "\u001b[0;32m~/miniconda3/envs/pytorch/lib/python3.8/site-packages/spams/spams.py\u001b[0m in \u001b[0;36mtrainDL\u001b[0;34m(X, return_model, model, D, numThreads, batchsize, K, lambda1, lambda2, iter, t0, mode, posAlpha, posD, expand, modeD, whiten, clean, verbose, gamma1, gamma2, rho, iter_updateD, stochastic_deprecated, modeParam, batch, log_deprecated, logName)\u001b[0m\n\u001b[1;32m   2027\u001b[0m     \u001b[0mlambda3\u001b[0m \u001b[0;34m=\u001b[0m \u001b[0;36m0.\u001b[0m\u001b[0;34m\u001b[0m\u001b[0;34m\u001b[0m\u001b[0m\n\u001b[1;32m   2028\u001b[0m     \u001b[0mregul\u001b[0m \u001b[0;34m=\u001b[0m \u001b[0;32mNone\u001b[0m\u001b[0;34m\u001b[0m\u001b[0;34m\u001b[0m\u001b[0m\n\u001b[0;32m-> 2029\u001b[0;31m     \u001b[0;32mreturn\u001b[0m \u001b[0m__allTrainDL\u001b[0m\u001b[0;34m(\u001b[0m\u001b[0mX\u001b[0m\u001b[0;34m,\u001b[0m \u001b[0mreturn_model\u001b[0m\u001b[0;34m,\u001b[0m \u001b[0mmodel\u001b[0m\u001b[0;34m,\u001b[0m \u001b[0;32mFalse\u001b[0m\u001b[0;34m,\u001b[0m \u001b[0mD\u001b[0m\u001b[0;34m,\u001b[0m \u001b[0;32mNone\u001b[0m\u001b[0;34m,\u001b[0m \u001b[0;32mNone\u001b[0m\u001b[0;34m,\u001b[0m \u001b[0mnumThreads\u001b[0m\u001b[0;34m,\u001b[0m \u001b[0;36m0.000001\u001b[0m\u001b[0;34m,\u001b[0m \u001b[0;32mTrue\u001b[0m\u001b[0;34m,\u001b[0m \u001b[0;32mFalse\u001b[0m\u001b[0;34m,\u001b[0m \u001b[0mbatchsize\u001b[0m\u001b[0;34m,\u001b[0m \u001b[0mK\u001b[0m\u001b[0;34m,\u001b[0m \u001b[0mlambda1\u001b[0m\u001b[0;34m,\u001b[0m \u001b[0mlambda2\u001b[0m\u001b[0;34m,\u001b[0m \u001b[0mlambda3\u001b[0m\u001b[0;34m,\u001b[0m \u001b[0miter\u001b[0m\u001b[0;34m,\u001b[0m \u001b[0mt0\u001b[0m\u001b[0;34m,\u001b[0m \u001b[0mmode\u001b[0m\u001b[0;34m,\u001b[0m \u001b[0mregul\u001b[0m\u001b[0;34m,\u001b[0m \u001b[0mposAlpha\u001b[0m\u001b[0;34m,\u001b[0m \u001b[0mposD\u001b[0m\u001b[0;34m,\u001b[0m \u001b[0mexpand\u001b[0m\u001b[0;34m,\u001b[0m \u001b[0mmodeD\u001b[0m\u001b[0;34m,\u001b[0m \u001b[0mwhiten\u001b[0m\u001b[0;34m,\u001b[0m \u001b[0mclean\u001b[0m\u001b[0;34m,\u001b[0m \u001b[0mverbose\u001b[0m\u001b[0;34m,\u001b[0m \u001b[0mgamma1\u001b[0m\u001b[0;34m,\u001b[0m \u001b[0mgamma2\u001b[0m\u001b[0;34m,\u001b[0m \u001b[0mrho\u001b[0m\u001b[0;34m,\u001b[0m \u001b[0miter_updateD\u001b[0m\u001b[0;34m,\u001b[0m \u001b[0mstochastic_deprecated\u001b[0m\u001b[0;34m,\u001b[0m \u001b[0mmodeParam\u001b[0m\u001b[0;34m,\u001b[0m \u001b[0mbatch\u001b[0m\u001b[0;34m,\u001b[0m \u001b[0mlog_deprecated\u001b[0m\u001b[0;34m,\u001b[0m \u001b[0mlogName\u001b[0m\u001b[0;34m)\u001b[0m\u001b[0;34m\u001b[0m\u001b[0;34m\u001b[0m\u001b[0m\n\u001b[0m\u001b[1;32m   2030\u001b[0m \u001b[0;34m\u001b[0m\u001b[0m\n\u001b[1;32m   2031\u001b[0m \u001b[0;34m\u001b[0m\u001b[0m\n",
      "\u001b[0;32m~/miniconda3/envs/pytorch/lib/python3.8/site-packages/spams/spams.py\u001b[0m in \u001b[0;36m__allTrainDL\u001b[0;34m(X, return_model, model, in_memory, D, graph, tree, numThreads, tol, fixed_step, ista, batchsize, K, lambda1, lambda2, lambda3, iter, t0, mode, regul, posAlpha, posD, expand, modeD, whiten, clean, verbose, gamma1, gamma2, rho, iter_updateD, stochastic_deprecated, modeParam, batch, log_deprecated, logName)\u001b[0m\n\u001b[1;32m   1869\u001b[0m         \u001b[0mm_B\u001b[0m \u001b[0;34m=\u001b[0m \u001b[0mmodel\u001b[0m\u001b[0;34m[\u001b[0m\u001b[0;34m'B'\u001b[0m\u001b[0;34m]\u001b[0m\u001b[0;34m\u001b[0m\u001b[0;34m\u001b[0m\u001b[0m\n\u001b[1;32m   1870\u001b[0m         \u001b[0mm_iter\u001b[0m \u001b[0;34m=\u001b[0m \u001b[0mint\u001b[0m\u001b[0;34m(\u001b[0m\u001b[0mmodel\u001b[0m\u001b[0;34m[\u001b[0m\u001b[0;34m'iter'\u001b[0m\u001b[0;34m]\u001b[0m\u001b[0;34m)\u001b[0m\u001b[0;34m\u001b[0m\u001b[0;34m\u001b[0m\u001b[0m\n\u001b[0;32m-> 1871\u001b[0;31m     x = spams_wrap.alltrainDL(\n\u001b[0m\u001b[1;32m   1872\u001b[0m         \u001b[0mX\u001b[0m\u001b[0;34m,\u001b[0m \u001b[0min_memory\u001b[0m\u001b[0;34m,\u001b[0m \u001b[0mreturn_model\u001b[0m\u001b[0;34m,\u001b[0m \u001b[0mm_A\u001b[0m\u001b[0;34m,\u001b[0m \u001b[0mm_B\u001b[0m\u001b[0;34m,\u001b[0m \u001b[0mm_iter\u001b[0m\u001b[0;34m,\u001b[0m \u001b[0mD\u001b[0m\u001b[0;34m,\u001b[0m\u001b[0;34m\u001b[0m\u001b[0;34m\u001b[0m\u001b[0m\n\u001b[1;32m   1873\u001b[0m         \u001b[0meta_g\u001b[0m\u001b[0;34m,\u001b[0m \u001b[0mgroups\u001b[0m\u001b[0;34m,\u001b[0m \u001b[0mgroups_var\u001b[0m\u001b[0;34m,\u001b[0m \u001b[0mown_variables\u001b[0m\u001b[0;34m,\u001b[0m \u001b[0mN_own_variables\u001b[0m\u001b[0;34m,\u001b[0m\u001b[0;34m\u001b[0m\u001b[0;34m\u001b[0m\u001b[0m\n",
      "\u001b[0;32m~/miniconda3/envs/pytorch/lib/python3.8/site-packages/spams_wrap/spams_wrap.py\u001b[0m in \u001b[0;36malltrainDL\u001b[0;34m(*args)\u001b[0m\n\u001b[1;32m    311\u001b[0m     \u001b[0malltrainDL\u001b[0m\u001b[0;34m(\u001b[0m\u001b[0mData\u001b[0m\u001b[0;34m<\u001b[0m \u001b[0mfloat\u001b[0m \u001b[0;34m>\u001b[0m \u001b[0;34m*\u001b[0m \u001b[0mX\u001b[0m\u001b[0;34m,\u001b[0m \u001b[0mbool\u001b[0m \u001b[0min_memory\u001b[0m\u001b[0;34m,\u001b[0m \u001b[0mbool\u001b[0m \u001b[0mreturn_model\u001b[0m\u001b[0;34m,\u001b[0m \u001b[0mMatrix\u001b[0m\u001b[0;34m<\u001b[0m \u001b[0mfloat\u001b[0m \u001b[0;34m>\u001b[0m \u001b[0;34m*\u001b[0m \u001b[0mm_A\u001b[0m\u001b[0;34m,\u001b[0m \u001b[0mMatrix\u001b[0m\u001b[0;34m<\u001b[0m \u001b[0mfloat\u001b[0m \u001b[0;34m>\u001b[0m \u001b[0;34m*\u001b[0m \u001b[0mm_B\u001b[0m\u001b[0;34m,\u001b[0m \u001b[0mint\u001b[0m \u001b[0mm_iter\u001b[0m\u001b[0;34m,\u001b[0m \u001b[0mMatrix\u001b[0m\u001b[0;34m<\u001b[0m \u001b[0mfloat\u001b[0m \u001b[0;34m>\u001b[0m \u001b[0;34m*\u001b[0m \u001b[0mD1\u001b[0m\u001b[0;34m,\u001b[0m \u001b[0mVector\u001b[0m\u001b[0;34m<\u001b[0m \u001b[0mfloat\u001b[0m \u001b[0;34m>\u001b[0m \u001b[0;34m*\u001b[0m \u001b[0meta_g\u001b[0m\u001b[0;34m,\u001b[0m \u001b[0mSpMatrix\u001b[0m\u001b[0;34m<\u001b[0m \u001b[0mbool\u001b[0m \u001b[0;34m>\u001b[0m \u001b[0;34m*\u001b[0m \u001b[0mgroups\u001b[0m\u001b[0;34m,\u001b[0m \u001b[0mSpMatrix\u001b[0m\u001b[0;34m<\u001b[0m \u001b[0mbool\u001b[0m \u001b[0;34m>\u001b[0m \u001b[0;34m*\u001b[0m \u001b[0mgroups_var\u001b[0m\u001b[0;34m,\u001b[0m \u001b[0mVector\u001b[0m\u001b[0;34m<\u001b[0m \u001b[0mint\u001b[0m \u001b[0;34m>\u001b[0m \u001b[0;34m*\u001b[0m \u001b[0mown_variables\u001b[0m\u001b[0;34m,\u001b[0m \u001b[0mVector\u001b[0m\u001b[0;34m<\u001b[0m \u001b[0mint\u001b[0m \u001b[0;34m>\u001b[0m \u001b[0;34m*\u001b[0m \u001b[0mN_own_variables\u001b[0m\u001b[0;34m,\u001b[0m \u001b[0mint\u001b[0m \u001b[0mnum_threads\u001b[0m\u001b[0;34m,\u001b[0m \u001b[0mfloat\u001b[0m \u001b[0mtol\u001b[0m\u001b[0;34m,\u001b[0m \u001b[0mbool\u001b[0m \u001b[0mfixed_step\u001b[0m\u001b[0;34m,\u001b[0m \u001b[0mbool\u001b[0m \u001b[0mista\u001b[0m\u001b[0;34m,\u001b[0m \u001b[0mint\u001b[0m \u001b[0mbatch_size\u001b[0m\u001b[0;34m,\u001b[0m \u001b[0mint\u001b[0m \u001b[0mK\u001b[0m\u001b[0;34m,\u001b[0m \u001b[0mdouble\u001b[0m \u001b[0mlambda1\u001b[0m\u001b[0;34m,\u001b[0m \u001b[0mdouble\u001b[0m \u001b[0mlambda2\u001b[0m\u001b[0;34m,\u001b[0m \u001b[0mdouble\u001b[0m \u001b[0mlambda3\u001b[0m\u001b[0;34m,\u001b[0m \u001b[0mint\u001b[0m \u001b[0miter\u001b[0m\u001b[0;34m,\u001b[0m \u001b[0mdouble\u001b[0m \u001b[0mt0\u001b[0m\u001b[0;34m,\u001b[0m \u001b[0mconstraint_type\u001b[0m \u001b[0mmode\u001b[0m\u001b[0;34m,\u001b[0m \u001b[0mchar\u001b[0m \u001b[0;34m*\u001b[0m \u001b[0mname_regul\u001b[0m\u001b[0;34m,\u001b[0m \u001b[0mbool\u001b[0m \u001b[0mposAlpha\u001b[0m\u001b[0;34m,\u001b[0m \u001b[0mbool\u001b[0m \u001b[0mposD\u001b[0m\u001b[0;34m,\u001b[0m \u001b[0mbool\u001b[0m \u001b[0mexpand\u001b[0m\u001b[0;34m,\u001b[0m \u001b[0mconstraint_type_D\u001b[0m \u001b[0mmodeD\u001b[0m\u001b[0;34m,\u001b[0m \u001b[0mbool\u001b[0m \u001b[0mwhiten\u001b[0m\u001b[0;34m,\u001b[0m \u001b[0mbool\u001b[0m \u001b[0mclean\u001b[0m\u001b[0;34m,\u001b[0m \u001b[0mbool\u001b[0m \u001b[0mverbose\u001b[0m\u001b[0;34m,\u001b[0m \u001b[0mdouble\u001b[0m \u001b[0mgamma1\u001b[0m\u001b[0;34m,\u001b[0m \u001b[0mdouble\u001b[0m \u001b[0mgamma2\u001b[0m\u001b[0;34m,\u001b[0m \u001b[0mfloat\u001b[0m \u001b[0mrho\u001b[0m\u001b[0;34m,\u001b[0m \u001b[0mint\u001b[0m \u001b[0miter_updateD\u001b[0m\u001b[0;34m,\u001b[0m \u001b[0mbool\u001b[0m \u001b[0mstochastic\u001b[0m\u001b[0;34m,\u001b[0m \u001b[0mint\u001b[0m \u001b[0mmodeParam\u001b[0m\u001b[0;34m,\u001b[0m \u001b[0mbool\u001b[0m \u001b[0mbatch\u001b[0m\u001b[0;34m,\u001b[0m \u001b[0mbool\u001b[0m \u001b[0mlog\u001b[0m\u001b[0;34m,\u001b[0m \u001b[0mchar\u001b[0m \u001b[0;34m*\u001b[0m \u001b[0mlogName\u001b[0m\u001b[0;34m)\u001b[0m \u001b[0;34m->\u001b[0m \u001b[0mMatrix\u001b[0m\u001b[0;34m<\u001b[0m \u001b[0mfloat\u001b[0m \u001b[0;34m>\u001b[0m \u001b[0;34m*\u001b[0m\u001b[0;34m\u001b[0m\u001b[0;34m\u001b[0m\u001b[0m\n\u001b[1;32m    312\u001b[0m     \"\"\"\n\u001b[0;32m--> 313\u001b[0;31m     \u001b[0;32mreturn\u001b[0m \u001b[0m_spams_wrap\u001b[0m\u001b[0;34m.\u001b[0m\u001b[0malltrainDL\u001b[0m\u001b[0;34m(\u001b[0m\u001b[0;34m*\u001b[0m\u001b[0margs\u001b[0m\u001b[0;34m)\u001b[0m\u001b[0;34m\u001b[0m\u001b[0;34m\u001b[0m\u001b[0m\n\u001b[0m\u001b[1;32m    314\u001b[0m \u001b[0;34m\u001b[0m\u001b[0m\n\u001b[1;32m    315\u001b[0m \u001b[0;34m\u001b[0m\u001b[0m\n",
      "\u001b[0;31mKeyboardInterrupt\u001b[0m: "
     ]
    }
   ],
   "source": [
    "# color normalization\n",
    "path = os.getcwd()\n",
    "fileList = os.listdir(path)\n",
    "for i in fileList:\n",
    "    if i.split('.')[1]=='jpg':\n",
    "        image = staintools.read_image(i)\n",
    "        transformed = normalizer.transform(image)\n",
    "        skimage.io.imsave(i, transformed)"
   ]
  },
  {
   "cell_type": "code",
   "execution_count": null,
   "metadata": {},
   "outputs": [],
   "source": []
  },
  {
   "cell_type": "code",
   "execution_count": 57,
   "metadata": {},
   "outputs": [],
   "source": [
    "# get all the files in the current path and save to the list\n",
    "def change_filename(path, old, new):   \n",
    "#     os.getcwd() obtain the current path\n",
    "    fileList = os.listdir(path)\n",
    "    n=0\n",
    "    for oldname in fileList:\n",
    "        if old in oldname:\n",
    "            newname = oldname.replace(old, new)\n",
    "            os.rename(oldname,newname)   \n",
    "            print(oldname,'======>',newname)\n",
    "            n+=1"
   ]
  },
  {
   "cell_type": "code",
   "execution_count": 58,
   "metadata": {},
   "outputs": [
    {
     "output_type": "stream",
     "name": "stdout",
     "text": [
      "spots_BT23567_E2.csv.gz ======> spots_BC23567_E2.csv.gz\nHE_BT24044_E1.jpg ======> HE_BC24044_E1.jpg\nspots_BT23269_D1.csv.gz ======> spots_BC23269_D1.csv.gz\nHE_BT23901_C2.jpg ======> HE_BC23901_C2.jpg\nspots_BT23450_E2.csv.gz ======> spots_BC23450_E2.csv.gz\nspots_BT24223_D2.csv.gz ======> spots_BC24223_D2.csv.gz\nspots_BT23506_D1.csv.gz ======> spots_BC23506_D1.csv.gz\nspots_BT23508_E1.csv.gz ======> spots_BC23508_E1.csv.gz\nspots_BT23567_D2.csv.gz ======> spots_BC23567_D2.csv.gz\nspots_BT23377_C2.csv.gz ======> spots_BC23377_C2.csv.gz\nHE_BT23287_C1.jpg ======> HE_BC23287_C1.jpg\nHE_BT23269_D1.jpg ======> HE_BC23269_D1.jpg\nHE_BT23810_D2.jpg ======> HE_BC23810_D2.jpg\nspots_BT23895_C2.csv.gz ======> spots_BC23895_C2.csv.gz\nHE_BT23288_D2.jpg ======> HE_BC23288_D2.jpg\nspots_BT23268_C2.csv.gz ======> spots_BC23268_C2.csv.gz\nHE_BT23903_C2.jpg ======> HE_BC23903_C2.jpg\nspots_BT24044_D2.csv.gz ======> spots_BC24044_D2.csv.gz\nHE_BT23508_E2.jpg ======> HE_BC23508_E2.jpg\nHE_BT23506_C2.jpg ======> HE_BC23506_C2.jpg\nHE_BT23277_D2.jpg ======> HE_BC23277_D2.jpg\nspots_BT24223_E2.csv.gz ======> spots_BC24223_E2.csv.gz\nHE_BT23508_D2.jpg ======> HE_BC23508_D2.jpg\nHE_BT23377_C1.jpg ======> HE_BC23377_C1.jpg\nspots_BT23506_C1.csv.gz ======> spots_BC23506_C1.csv.gz\nspots_BT24223_E1.csv.gz ======> spots_BC24223_E1.csv.gz\nspots_BT23903_D1.csv.gz ======> spots_BC23903_D1.csv.gz\nHE_BT23567_E1.jpg ======> HE_BC23567_E1.jpg\nHE_BT23944_E2.jpg ======> HE_BC23944_E2.jpg\nspots_BT23288_D2.csv.gz ======> spots_BC23288_D2.csv.gz\nspots_BT23268_C1.csv.gz ======> spots_BC23268_C1.csv.gz\nHE_BT23508_E1.jpg ======> HE_BC23508_E1.jpg\nHE_BT23506_C1.jpg ======> HE_BC23506_C1.jpg\nHE_BT23567_E2.jpg ======> HE_BC23567_E2.jpg\nspots_BT23450_D2.csv.gz ======> spots_BC23450_D2.csv.gz\nHE_BT23272_E2.jpg ======> HE_BC23272_E2.jpg\nHE_BT24223_E2.jpg ======> HE_BC24223_E2.jpg\nHE_BT23944_E1.jpg ======> HE_BC23944_E1.jpg\nHE_BT23895_C2.jpg ======> HE_BC23895_C2.jpg\nspots_BT23895_D1.csv.gz ======> spots_BC23895_D1.csv.gz\nspots_BT23288_E2.csv.gz ======> spots_BC23288_E2.csv.gz\nHE_BT23272_D2.jpg ======> HE_BC23272_D2.jpg\nHE_BT23277_E2.jpg ======> HE_BC23277_E2.jpg\nHE_BT23288_E2.jpg ======> HE_BC23288_E2.jpg\nHE_BT23450_D2.jpg ======> HE_BC23450_D2.jpg\nHE_BT23377_D1.jpg ======> HE_BC23377_D1.jpg\nspots_BT23506_C2.csv.gz ======> spots_BC23506_C2.csv.gz\nHE_BT23287_D1.jpg ======> HE_BC23287_D1.jpg\nHE_BT23810_E1.jpg ======> HE_BC23810_E1.jpg\nHE_BT23567_D2.jpg ======> HE_BC23567_D2.jpg\nspots_BT23269_C2.csv.gz ======> spots_BC23269_C2.csv.gz\nspots_BT23287_D1.csv.gz ======> spots_BC23287_D1.csv.gz\nspots_BT23269_C1.csv.gz ======> spots_BC23269_C1.csv.gz\nspots_BT23901_D1.csv.gz ======> spots_BC23901_D1.csv.gz\nspots_BT23377_D1.csv.gz ======> spots_BC23377_D1.csv.gz\nHE_BT23272_E1.jpg ======> HE_BC23272_E1.jpg\nspots_BT23268_D1.csv.gz ======> spots_BC23268_D1.csv.gz\nspots_BT23903_C1.csv.gz ======> spots_BC23903_C1.csv.gz\nHE_BT23268_C2.jpg ======> HE_BC23268_C2.jpg\nspots_BT23508_E2.csv.gz ======> spots_BC23508_E2.csv.gz\nHE_BT23288_E1.jpg ======> HE_BC23288_E1.jpg\nHE_BT23377_C2.jpg ======> HE_BC23377_C2.jpg\nspots_BT23287_C2.csv.gz ======> spots_BC23287_C2.csv.gz\nspots_BT23810_E2.csv.gz ======> spots_BC23810_E2.csv.gz\nHE_BT23901_D1.jpg ======> HE_BC23901_D1.jpg\nspots_BT23288_E1.csv.gz ======> spots_BC23288_E1.csv.gz\nHE_BT24044_D2.jpg ======> HE_BC24044_D2.jpg\nHE_BT23268_C1.jpg ======> HE_BC23268_C1.jpg\nHE_BT23944_D2.jpg ======> HE_BC23944_D2.jpg\nspots_BT23272_E1.csv.gz ======> spots_BC23272_E1.csv.gz\nspots_BT23377_C1.csv.gz ======> spots_BC23377_C1.csv.gz\nHE_BT23287_C2.jpg ======> HE_BC23287_C2.jpg\nHE_BT23268_D1.jpg ======> HE_BC23268_D1.jpg\nHE_BT24223_D2.jpg ======> HE_BC24223_D2.jpg\nHE_BT23269_C1.jpg ======> HE_BC23269_C1.jpg\nspots_BT23810_E1.csv.gz ======> spots_BC23810_E1.csv.gz\nHE_BT24223_E1.jpg ======> HE_BC24223_E1.jpg\nHE_BT23810_E2.jpg ======> HE_BC23810_E2.jpg\nHE_BT23895_C1.jpg ======> HE_BC23895_C1.jpg\nspots_BT23903_C2.csv.gz ======> spots_BC23903_C2.csv.gz\nspots_BT23944_E1.csv.gz ======> spots_BC23944_E1.csv.gz\nHE_BT23450_E2.jpg ======> HE_BC23450_E2.jpg\nspots_BT24044_E1.csv.gz ======> spots_BC24044_E1.csv.gz\nspots_BT23944_E2.csv.gz ======> spots_BC23944_E2.csv.gz\nspots_BT23450_E1.csv.gz ======> spots_BC23450_E1.csv.gz\nHE_BT23903_D1.jpg ======> HE_BC23903_D1.jpg\nspots_BT24044_E2.csv.gz ======> spots_BC24044_E2.csv.gz\nHE_BT23903_C1.jpg ======> HE_BC23903_C1.jpg\nspots_BT23272_E2.csv.gz ======> spots_BC23272_E2.csv.gz\nHE_BT23269_C2.jpg ======> HE_BC23269_C2.jpg\nspots_BT23277_E1.csv.gz ======> spots_BC23277_E1.csv.gz\nspots_BT23272_D2.csv.gz ======> spots_BC23272_D2.csv.gz\nspots_BT23901_C2.csv.gz ======> spots_BC23901_C2.csv.gz\nspots_BT23277_D2.csv.gz ======> spots_BC23277_D2.csv.gz\nspots_BT23287_C1.csv.gz ======> spots_BC23287_C1.csv.gz\nHE_BT24044_E2.jpg ======> HE_BC24044_E2.jpg\nspots_BT23895_C1.csv.gz ======> spots_BC23895_C1.csv.gz\nspots_BT23810_D2.csv.gz ======> spots_BC23810_D2.csv.gz\nHE_BT23506_D1.jpg ======> HE_BC23506_D1.jpg\nspots_BT23567_E1.csv.gz ======> spots_BC23567_E1.csv.gz\nspots_BT23508_D2.csv.gz ======> spots_BC23508_D2.csv.gz\nHE_BT23277_E1.jpg ======> HE_BC23277_E1.jpg\nspots_BT23944_D2.csv.gz ======> spots_BC23944_D2.csv.gz\nHE_BT23895_D1.jpg ======> HE_BC23895_D1.jpg\nHE_BT23450_E1.jpg ======> HE_BC23450_E1.jpg\nspots_BT23277_E2.csv.gz ======> spots_BC23277_E2.csv.gz\n"
     ]
    }
   ],
   "source": [
    "# First, we need to change all \"BT\" to \"BC\" to keep consistency.\n",
    "change_filename(os.getcwd(), \"BT\", \"BC\")"
   ]
  },
  {
   "cell_type": "code",
   "execution_count": 59,
   "metadata": {},
   "outputs": [
    {
     "output_type": "execute_result",
     "data": {
      "text/plain": [
       "            type  patient replicate              count_matrix  \\\n",
       "0   HER2_luminal  BC23287        C1  BC23287_C1_stdata.tsv.gz   \n",
       "1   HER2_luminal  BC23287        C2  BC23287_C2_stdata.tsv.gz   \n",
       "2   HER2_luminal  BC23287        D1  BC23287_D1_stdata.tsv.gz   \n",
       "3   HER2_luminal  BC23450        D2  BC23450_D2_stdata.tsv.gz   \n",
       "4   HER2_luminal  BC23450        E1  BC23450_E1_stdata.tsv.gz   \n",
       "..           ...      ...       ...                       ...   \n",
       "63          TNBC  BC23377        C2  BC23377_C2_stdata.tsv.gz   \n",
       "64          TNBC  BC23377        D1  BC23377_D1_stdata.tsv.gz   \n",
       "65          TNBC  BC23803        D2  BC23803_D2_stdata.tsv.gz   \n",
       "66          TNBC  BC23803        E1  BC23803_E1_stdata.tsv.gz   \n",
       "67          TNBC  BC23803        E2  BC23803_E2_stdata.tsv.gz   \n",
       "\n",
       "      histology_image         spot_coordinates  \n",
       "0   HE_BT23287_C1.jpg  spots_BT23287_C1.csv.gz  \n",
       "1   HE_BT23287_C2.jpg  spots_BT23287_C2.csv.gz  \n",
       "2   HE_BT23287_D1.jpg  spots_BT23287_D1.csv.gz  \n",
       "3   HE_BT23450_D2.jpg  spots_BT23450_D2.csv.gz  \n",
       "4   HE_BT23450_E1.jpg  spots_BT23450_E1.csv.gz  \n",
       "..                ...                      ...  \n",
       "63  HE_BT23377_C2.jpg  spots_BT23377_C2.csv.gz  \n",
       "64  HE_BT23377_D1.jpg  spots_BT23377_D1.csv.gz  \n",
       "65  HE_BC23803_D2.jpg  spots_BC23803_D2.csv.gz  \n",
       "66  HE_BC23803_E1.jpg  spots_BC23803_E1.csv.gz  \n",
       "67  HE_BC23803_E2.jpg  spots_BC23803_E2.csv.gz  \n",
       "\n",
       "[68 rows x 6 columns]"
      ],
      "text/html": "<div>\n<style scoped>\n    .dataframe tbody tr th:only-of-type {\n        vertical-align: middle;\n    }\n\n    .dataframe tbody tr th {\n        vertical-align: top;\n    }\n\n    .dataframe thead th {\n        text-align: right;\n    }\n</style>\n<table border=\"1\" class=\"dataframe\">\n  <thead>\n    <tr style=\"text-align: right;\">\n      <th></th>\n      <th>type</th>\n      <th>patient</th>\n      <th>replicate</th>\n      <th>count_matrix</th>\n      <th>histology_image</th>\n      <th>spot_coordinates</th>\n    </tr>\n  </thead>\n  <tbody>\n    <tr>\n      <th>0</th>\n      <td>HER2_luminal</td>\n      <td>BC23287</td>\n      <td>C1</td>\n      <td>BC23287_C1_stdata.tsv.gz</td>\n      <td>HE_BT23287_C1.jpg</td>\n      <td>spots_BT23287_C1.csv.gz</td>\n    </tr>\n    <tr>\n      <th>1</th>\n      <td>HER2_luminal</td>\n      <td>BC23287</td>\n      <td>C2</td>\n      <td>BC23287_C2_stdata.tsv.gz</td>\n      <td>HE_BT23287_C2.jpg</td>\n      <td>spots_BT23287_C2.csv.gz</td>\n    </tr>\n    <tr>\n      <th>2</th>\n      <td>HER2_luminal</td>\n      <td>BC23287</td>\n      <td>D1</td>\n      <td>BC23287_D1_stdata.tsv.gz</td>\n      <td>HE_BT23287_D1.jpg</td>\n      <td>spots_BT23287_D1.csv.gz</td>\n    </tr>\n    <tr>\n      <th>3</th>\n      <td>HER2_luminal</td>\n      <td>BC23450</td>\n      <td>D2</td>\n      <td>BC23450_D2_stdata.tsv.gz</td>\n      <td>HE_BT23450_D2.jpg</td>\n      <td>spots_BT23450_D2.csv.gz</td>\n    </tr>\n    <tr>\n      <th>4</th>\n      <td>HER2_luminal</td>\n      <td>BC23450</td>\n      <td>E1</td>\n      <td>BC23450_E1_stdata.tsv.gz</td>\n      <td>HE_BT23450_E1.jpg</td>\n      <td>spots_BT23450_E1.csv.gz</td>\n    </tr>\n    <tr>\n      <th>...</th>\n      <td>...</td>\n      <td>...</td>\n      <td>...</td>\n      <td>...</td>\n      <td>...</td>\n      <td>...</td>\n    </tr>\n    <tr>\n      <th>63</th>\n      <td>TNBC</td>\n      <td>BC23377</td>\n      <td>C2</td>\n      <td>BC23377_C2_stdata.tsv.gz</td>\n      <td>HE_BT23377_C2.jpg</td>\n      <td>spots_BT23377_C2.csv.gz</td>\n    </tr>\n    <tr>\n      <th>64</th>\n      <td>TNBC</td>\n      <td>BC23377</td>\n      <td>D1</td>\n      <td>BC23377_D1_stdata.tsv.gz</td>\n      <td>HE_BT23377_D1.jpg</td>\n      <td>spots_BT23377_D1.csv.gz</td>\n    </tr>\n    <tr>\n      <th>65</th>\n      <td>TNBC</td>\n      <td>BC23803</td>\n      <td>D2</td>\n      <td>BC23803_D2_stdata.tsv.gz</td>\n      <td>HE_BC23803_D2.jpg</td>\n      <td>spots_BC23803_D2.csv.gz</td>\n    </tr>\n    <tr>\n      <th>66</th>\n      <td>TNBC</td>\n      <td>BC23803</td>\n      <td>E1</td>\n      <td>BC23803_E1_stdata.tsv.gz</td>\n      <td>HE_BC23803_E1.jpg</td>\n      <td>spots_BC23803_E1.csv.gz</td>\n    </tr>\n    <tr>\n      <th>67</th>\n      <td>TNBC</td>\n      <td>BC23803</td>\n      <td>E2</td>\n      <td>BC23803_E2_stdata.tsv.gz</td>\n      <td>HE_BC23803_E2.jpg</td>\n      <td>spots_BC23803_E2.csv.gz</td>\n    </tr>\n  </tbody>\n</table>\n<p>68 rows × 6 columns</p>\n</div>"
     },
     "metadata": {},
     "execution_count": 59
    }
   ],
   "source": [
    "metadata = pd.read_csv(\"metadata.csv\")\n",
    "metadata"
   ]
  },
  {
   "cell_type": "code",
   "execution_count": 60,
   "metadata": {},
   "outputs": [
    {
     "output_type": "execute_result",
     "data": {
      "text/plain": [
       "{'HER2_luminal': ['BC23287', 'BC23450', 'BC23901', 'BC23944', 'BC24220'],\n",
       " 'HER2_non_luminal': ['BC23567', 'BC23810', 'BC23903', 'BC24044', 'BC24105'],\n",
       " 'Luminal_A': ['BC23268', 'BC23269', 'BC23272', 'BC24223'],\n",
       " 'Luminal_B': ['BC23270', 'BC23277', 'BC23506', 'BC23508', 'BC23895'],\n",
       " 'TNBC': ['BC23209', 'BC23288', 'BC23377', 'BC23803']}"
      ]
     },
     "metadata": {},
     "execution_count": 60
    }
   ],
   "source": [
    "dictionary = {}\n",
    "for index, row in metadata.iterrows():\n",
    "    if row['type'] in dictionary:\n",
    "        if row['patient'] in dictionary[row['type']]:\n",
    "            continue\n",
    "        else:\n",
    "            dictionary[row['type']].append(row['patient'])\n",
    "    else:\n",
    "        dictionary[row['type']]=[]\n",
    "dictionary"
   ]
  },
  {
   "cell_type": "code",
   "execution_count": 61,
   "metadata": {},
   "outputs": [],
   "source": [
    "def get_key(dict, value):\n",
    "    return [k for k, v in dict.items() if value in v]"
   ]
  },
  {
   "cell_type": "code",
   "execution_count": 62,
   "metadata": {},
   "outputs": [
    {
     "output_type": "execute_result",
     "data": {
      "text/plain": [
       "dict_keys(['HER2_luminal', 'HER2_non_luminal', 'Luminal_A', 'Luminal_B', 'TNBC'])"
      ]
     },
     "metadata": {},
     "execution_count": 62
    }
   ],
   "source": [
    "dictionary.keys()"
   ]
  },
  {
   "cell_type": "code",
   "execution_count": 63,
   "metadata": {},
   "outputs": [],
   "source": [
    "subtypes = set(metadata[\"type\"])"
   ]
  },
  {
   "cell_type": "code",
   "execution_count": 64,
   "metadata": {},
   "outputs": [],
   "source": [
    "# create file folder for subtype and patients\n",
    "current_path = os.getcwd()\n",
    "for st in dictionary.keys():\n",
    "    if not os.path.exists(current_path + '/' + st):\n",
    "        os.makedirs(current_path + '/' + st)\n",
    "    for p in dictionary[st]:\n",
    "        if not os.path.exists(current_path + '/' + st + '/' + p):\n",
    "            os.makedirs(current_path + '/' + st + '/' + p)"
   ]
  },
  {
   "cell_type": "code",
   "execution_count": 65,
   "metadata": {},
   "outputs": [
    {
     "output_type": "execute_result",
     "data": {
      "text/plain": [
       "{'BC23209',\n",
       " 'BC23268',\n",
       " 'BC23269',\n",
       " 'BC23270',\n",
       " 'BC23272',\n",
       " 'BC23277',\n",
       " 'BC23287',\n",
       " 'BC23288',\n",
       " 'BC23377',\n",
       " 'BC23450',\n",
       " 'BC23506',\n",
       " 'BC23508',\n",
       " 'BC23567',\n",
       " 'BC23803',\n",
       " 'BC23810',\n",
       " 'BC23895',\n",
       " 'BC23901',\n",
       " 'BC23903',\n",
       " 'BC23944',\n",
       " 'BC24044',\n",
       " 'BC24105',\n",
       " 'BC24220',\n",
       " 'BC24223'}"
      ]
     },
     "metadata": {},
     "execution_count": 65
    }
   ],
   "source": [
    "patients = set(metadata[\"patient\"])\n",
    "patients"
   ]
  },
  {
   "cell_type": "code",
   "execution_count": 66,
   "metadata": {},
   "outputs": [
    {
     "output_type": "execute_result",
     "data": {
      "text/plain": [
       "['BC24220_E1_stdata.tsv.gz',\n",
       " 'BC23277_E2_stdata.tsv.gz',\n",
       " 'BC23567_D2_stdata.tsv.gz',\n",
       " 'BC23567_E1_stdata.tsv.gz',\n",
       " 'spots_BC24220_E1.csv.gz',\n",
       " 'BC24044_E1_stdata.tsv.gz',\n",
       " 'spots_BC24223_E1.csv.gz',\n",
       " 'spots_BC23895_D1.csv.gz',\n",
       " 'spots_BC24105_C2.csv.gz',\n",
       " 'HE_BC24220_D2.jpg',\n",
       " 'HE_BC23268_C2.jpg',\n",
       " 'HE_BC23287_D1.jpg',\n",
       " 'spots_BC23277_E2.csv.gz',\n",
       " 'HER2_luminal',\n",
       " 'HER2_non_luminal',\n",
       " 'BC24044_D2_stdata.tsv.gz',\n",
       " 'spots_BC23506_D1.csv.gz',\n",
       " 'BC23277_D2_stdata.tsv.gz',\n",
       " 'BC24223_D2_stdata.tsv.gz',\n",
       " 'HE_BC23269_D1.jpg',\n",
       " 'BC23272_D2_stdata.tsv.gz',\n",
       " 'BC23450_D2_stdata.tsv.gz',\n",
       " 'HE_BC23209_C2.jpg',\n",
       " 'BC23209_D1_stdata.tsv.gz',\n",
       " 'spots_BC24044_E1.csv.gz',\n",
       " 'HE_BC23288_E1.jpg',\n",
       " 'HE_BC24220_E1.jpg',\n",
       " 'HE_BC23277_E1.jpg',\n",
       " 'HE_BC23506_C2.jpg',\n",
       " 'HE_BC23269_C1.jpg',\n",
       " 'spots_BC23269_C2.csv.gz',\n",
       " 'BC23450_E2_stdata.tsv.gz',\n",
       " 'BC23268_C2_stdata.tsv.gz',\n",
       " 'HE_BC24044_E2.jpg',\n",
       " 'reset_raw_file.ipynb',\n",
       " 'Luminal_A',\n",
       " 'BC23288_E2_stdata.tsv.gz',\n",
       " 'spots_BC23903_C1.csv.gz',\n",
       " 'spots_BC24220_D2.csv.gz',\n",
       " 'BC23288_E1_stdata.tsv.gz',\n",
       " 'BC23944_D2_stdata.tsv.gz',\n",
       " 'spots_BC23288_E2.csv.gz',\n",
       " 'HE_BC23803_E2.jpg',\n",
       " 'BC23803_E2_stdata.tsv.gz',\n",
       " 'HE_BC23209_D1.jpg',\n",
       " 'spots_BC23567_E2.csv.gz',\n",
       " 'BC24105_C2_stdata.tsv.gz',\n",
       " 'spots_BC23895_C1.csv.gz',\n",
       " 'HE_BC23209_C1.jpg',\n",
       " 'BC24220_E2_stdata.tsv.gz',\n",
       " 'BC23901_C2_stdata.tsv.gz',\n",
       " 'BC23270_D2_stdata.tsv.gz',\n",
       " 'HE_BC23903_D1.jpg',\n",
       " 'HE_BC23903_C2.jpg',\n",
       " 'BC23895_C1_stdata.tsv.gz',\n",
       " 'spots_BC23270_E1.csv.gz',\n",
       " 'BC23508_D2_stdata.tsv.gz',\n",
       " 'HE_BC23277_E2.jpg',\n",
       " 'HE_BC23508_E2.jpg',\n",
       " 'BC23810_E1_stdata.tsv.gz',\n",
       " 'spots_BC23288_E1.csv.gz',\n",
       " 'HE_BC23272_D2.jpg',\n",
       " 'BC23567_E2_stdata.tsv.gz',\n",
       " 'HE_BC23567_D2.jpg',\n",
       " 'spots_BC23272_E1.csv.gz',\n",
       " 'spots_BC23803_D2.csv.gz',\n",
       " 'BC23272_E2_stdata.tsv.gz',\n",
       " 'spots_BC23895_C2.csv.gz',\n",
       " 'HE_BC23508_D2.jpg',\n",
       " 'BC23903_D1_stdata.tsv.gz',\n",
       " 'BC23270_E2_stdata.tsv.gz',\n",
       " 'spots_BC23450_D2.csv.gz',\n",
       " 'spots_BC23277_D2.csv.gz',\n",
       " 'HE_BC23803_E1.jpg',\n",
       " 'spots_BC23287_C1.csv.gz',\n",
       " 'BC23901_D1_stdata.tsv.gz',\n",
       " 'HE_BC23944_D2.jpg',\n",
       " 'BC23287_C1_stdata.tsv.gz',\n",
       " 'BC24223_E1_stdata.tsv.gz',\n",
       " 'spots_BC23506_C2.csv.gz',\n",
       " 'spots_BC23944_E1.csv.gz',\n",
       " 'spots_BC23269_C1.csv.gz',\n",
       " 'HE_BC23901_D1.jpg',\n",
       " 'spots_BC23903_D1.csv.gz',\n",
       " 'BC23903_C1_stdata.tsv.gz',\n",
       " 'spots_BC23508_E2.csv.gz',\n",
       " 'HE_BC23270_E2.jpg',\n",
       " 'spots_BC23944_E2.csv.gz',\n",
       " 'spots_BC23377_C2.csv.gz',\n",
       " 'BC23895_C2_stdata.tsv.gz',\n",
       " 'spots_BC24223_D2.csv.gz',\n",
       " 'spots_BC23272_D2.csv.gz',\n",
       " 'spots_BC23508_D2.csv.gz',\n",
       " 'spots_BC23803_E1.csv.gz',\n",
       " 'HE_BC24105_D1.jpg',\n",
       " 'BC23508_E2_stdata.tsv.gz',\n",
       " 'HE_BC23895_C2.jpg',\n",
       " 'HE_BC23288_D2.jpg',\n",
       " 'HE_BC23567_E1.jpg',\n",
       " 'spots_BC23810_E1.csv.gz',\n",
       " 'HE_BC23270_D2.jpg',\n",
       " 'HE_BC23944_E2.jpg',\n",
       " 'BC23944_E1_stdata.tsv.gz',\n",
       " 'BC23508_E1_stdata.tsv.gz',\n",
       " 'BC23272_E1_stdata.tsv.gz',\n",
       " 'spots_BC23903_C2.csv.gz',\n",
       " 'BC23377_C2_stdata.tsv.gz',\n",
       " 'BC23506_C2_stdata.tsv.gz',\n",
       " 'BC23377_C1_stdata.tsv.gz',\n",
       " 'spots_BC24223_E2.csv.gz',\n",
       " 'HE_BC23270_E1.jpg',\n",
       " 'spots_BC23450_E2.csv.gz',\n",
       " 'BC23268_C1_stdata.tsv.gz',\n",
       " 'HE_BC24223_E1.jpg',\n",
       " 'spots_BC23268_C1.csv.gz',\n",
       " 'spots_BC23209_C2.csv.gz',\n",
       " 'spots_BC23901_C2.csv.gz',\n",
       " 'HE_BC23268_C1.jpg',\n",
       " 'TNBC',\n",
       " 'metadata.csv',\n",
       " 'HE_BC23903_C1.jpg',\n",
       " 'spots_BC23450_E1.csv.gz',\n",
       " 'BC23269_D1_stdata.tsv.gz',\n",
       " 'BC23803_D2_stdata.tsv.gz',\n",
       " 'HE_BC23272_E1.jpg',\n",
       " 'spots_BC23277_E1.csv.gz',\n",
       " 'HE_BC23377_D1.jpg',\n",
       " 'spots_BC23287_D1.csv.gz',\n",
       " 'HE_BC23288_E2.jpg',\n",
       " 'BC23944_E2_stdata.tsv.gz',\n",
       " 'spots_BC23209_D1.csv.gz',\n",
       " 'spots_BC24044_E2.csv.gz',\n",
       " 'HE_BC23803_D2.jpg',\n",
       " 'BC23803_E1_stdata.tsv.gz',\n",
       " 'BC23209_C1_stdata.tsv.gz',\n",
       " 'BC24044_E2_stdata.tsv.gz',\n",
       " 'spots_BC23268_D1.csv.gz',\n",
       " 'HE_BC24223_E2.jpg',\n",
       " 'Luminal_B',\n",
       " 'spots_BC23270_D2.csv.gz',\n",
       " 'spots_BC24220_E2.csv.gz',\n",
       " 'spots_BC23810_D2.csv.gz',\n",
       " 'spots_BC23287_C2.csv.gz',\n",
       " 'HE_BC23895_C1.jpg',\n",
       " 'BC23450_E1_stdata.tsv.gz',\n",
       " 'BC24105_C1_stdata.tsv.gz',\n",
       " 'HE_BC23506_C1.jpg',\n",
       " 'HE_BC23450_E1.jpg',\n",
       " 'BC23810_D2_stdata.tsv.gz',\n",
       " 'spots_BC23268_C2.csv.gz',\n",
       " 'spots_BC23377_D1.csv.gz',\n",
       " 'HE_BC23508_E1.jpg',\n",
       " 'spots_BC23506_C1.csv.gz',\n",
       " 'HE_BC23269_C2.jpg',\n",
       " 'HE_BC24105_C2.jpg',\n",
       " 'BC23506_C1_stdata.tsv.gz',\n",
       " 'HE_BC24220_E2.jpg',\n",
       " 'HE_BC23450_E2.jpg',\n",
       " 'HE_BC23944_E1.jpg',\n",
       " 'BC23903_C2_stdata.tsv.gz',\n",
       " 'spots_BC23944_D2.csv.gz',\n",
       " 'BC24220_D2_stdata.tsv.gz',\n",
       " 'spots_BC23209_C1.csv.gz',\n",
       " 'BC23277_E1_stdata.tsv.gz',\n",
       " 'HE_BC23567_E2.jpg',\n",
       " 'spots_BC23508_E1.csv.gz',\n",
       " 'HE_BC23901_C2.jpg',\n",
       " 'HE_BC24105_C1.jpg',\n",
       " 'spots_BC23269_D1.csv.gz',\n",
       " 'HE_BC23272_E2.jpg',\n",
       " 'BC23269_C1_stdata.tsv.gz',\n",
       " 'HE_BC23287_C1.jpg',\n",
       " 'spots_BC23901_D1.csv.gz',\n",
       " 'spots_BC23810_E2.csv.gz',\n",
       " 'HE_BC23895_D1.jpg',\n",
       " 'BC23506_D1_stdata.tsv.gz',\n",
       " 'BC23377_D1_stdata.tsv.gz',\n",
       " 'BC23288_D2_stdata.tsv.gz',\n",
       " 'spots_BC23377_C1.csv.gz',\n",
       " 'spots_BC23288_D2.csv.gz',\n",
       " 'HE_BC23506_D1.jpg',\n",
       " 'HE_BC23277_D2.jpg',\n",
       " 'spots_BC24105_D1.csv.gz',\n",
       " 'HE_BC23377_C2.jpg',\n",
       " 'spots_BC23270_E2.csv.gz',\n",
       " 'HE_BC24044_D2.jpg',\n",
       " 'BC23287_D1_stdata.tsv.gz',\n",
       " 'HE_BC23810_D2.jpg',\n",
       " 'spots_BC23272_E2.csv.gz',\n",
       " 'spots_BC23803_E2.csv.gz',\n",
       " 'HE_BC23810_E2.jpg',\n",
       " 'BC23268_D1_stdata.tsv.gz',\n",
       " 'prepare.py',\n",
       " 'HE_BC23268_D1.jpg',\n",
       " 'HE_BC23450_D2.jpg',\n",
       " 'BC23810_E2_stdata.tsv.gz',\n",
       " 'BC24105_D1_stdata.tsv.gz',\n",
       " 'spots_BC24105_C1.csv.gz',\n",
       " 'spots_BC24044_D2.csv.gz',\n",
       " 'BC23209_C2_stdata.tsv.gz',\n",
       " 'HE_BC24223_D2.jpg',\n",
       " 'HE_BC23810_E1.jpg',\n",
       " 'spots_BC23567_D2.csv.gz',\n",
       " 'BC23287_C2_stdata.tsv.gz',\n",
       " 'HE_BC23377_C1.jpg',\n",
       " 'BC23270_E1_stdata.tsv.gz',\n",
       " 'HE_BC23287_C2.jpg',\n",
       " 'spots_BC23567_E1.csv.gz',\n",
       " 'HE_BC24044_E1.jpg',\n",
       " 'BC23895_D1_stdata.tsv.gz',\n",
       " 'BC23269_C2_stdata.tsv.gz',\n",
       " 'BC24223_E2_stdata.tsv.gz']"
      ]
     },
     "metadata": {},
     "execution_count": 66
    }
   ],
   "source": [
    "fileList = os.listdir(os.getcwd())\n",
    "fileList"
   ]
  },
  {
   "cell_type": "code",
   "execution_count": 67,
   "metadata": {},
   "outputs": [],
   "source": [
    "def get_key(dict, value):\n",
    "    return [k for k, v in dict.items() if value in v]"
   ]
  },
  {
   "cell_type": "code",
   "execution_count": 68,
   "metadata": {},
   "outputs": [],
   "source": [
    "# move file to the folders\n",
    "import shutil\n",
    "current_path = os.getcwd()\n",
    "for patient in patients:\n",
    "    patient_st = get_key(dictionary, patient)[0]\n",
    "    for file in fileList:\n",
    "        if patient in file:  # get the file name with patient id\n",
    "            shutil.move(current_path + '/' + file, current_path + '/' + patient_st + '/' + patient)"
   ]
  },
  {
   "cell_type": "code",
   "execution_count": 69,
   "metadata": {},
   "outputs": [
    {
     "output_type": "execute_result",
     "data": {
      "text/plain": [
       "'/home/chenxingjian/PycharmProjects/mnt/mnt_project/FromZerotoOne_CN/data/hist2tscript'"
      ]
     },
     "metadata": {},
     "execution_count": 69
    }
   ],
   "source": [
    "current_path "
   ]
  },
  {
   "cell_type": "code",
   "execution_count": 70,
   "metadata": {},
   "outputs": [],
   "source": [
    "img_path = []\n",
    "for j,k,l in os.walk(current_path):\n",
    "    for f in l:\n",
    "        if '.jpg' in f: \n",
    "            img_path.append(j+'/'+f)\n"
   ]
  },
  {
   "cell_type": "code",
   "execution_count": 71,
   "metadata": {},
   "outputs": [
    {
     "output_type": "stream",
     "name": "stdout",
     "text": [
      "/home/chenxingjian/PycharmProjects/mnt/mnt_project/FromZerotoOne_CN/data/hist2tscript/HER2_luminal/BC24220/HE_BC24220_D2.jpg ======> /home/chenxingjian/PycharmProjects/mnt/mnt_project/FromZerotoOne_CN/data/hist2tscript/HER2_luminal/BC24220/BC24220_D2.jpg\n/home/chenxingjian/PycharmProjects/mnt/mnt_project/FromZerotoOne_CN/data/hist2tscript/HER2_luminal/BC24220/HE_BC24220_E1.jpg ======> /home/chenxingjian/PycharmProjects/mnt/mnt_project/FromZerotoOne_CN/data/hist2tscript/HER2_luminal/BC24220/BC24220_E1.jpg\n/home/chenxingjian/PycharmProjects/mnt/mnt_project/FromZerotoOne_CN/data/hist2tscript/HER2_luminal/BC24220/HE_BC24220_E2.jpg ======> /home/chenxingjian/PycharmProjects/mnt/mnt_project/FromZerotoOne_CN/data/hist2tscript/HER2_luminal/BC24220/BC24220_E2.jpg\n/home/chenxingjian/PycharmProjects/mnt/mnt_project/FromZerotoOne_CN/data/hist2tscript/HER2_luminal/BC23901/HE_BC23901_D1.jpg ======> /home/chenxingjian/PycharmProjects/mnt/mnt_project/FromZerotoOne_CN/data/hist2tscript/HER2_luminal/BC23901/BC23901_D1.jpg\n/home/chenxingjian/PycharmProjects/mnt/mnt_project/FromZerotoOne_CN/data/hist2tscript/HER2_luminal/BC23901/HE_BC23901_C2.jpg ======> /home/chenxingjian/PycharmProjects/mnt/mnt_project/FromZerotoOne_CN/data/hist2tscript/HER2_luminal/BC23901/BC23901_C2.jpg\n/home/chenxingjian/PycharmProjects/mnt/mnt_project/FromZerotoOne_CN/data/hist2tscript/HER2_luminal/BC23450/HE_BC23450_E1.jpg ======> /home/chenxingjian/PycharmProjects/mnt/mnt_project/FromZerotoOne_CN/data/hist2tscript/HER2_luminal/BC23450/BC23450_E1.jpg\n/home/chenxingjian/PycharmProjects/mnt/mnt_project/FromZerotoOne_CN/data/hist2tscript/HER2_luminal/BC23450/HE_BC23450_E2.jpg ======> /home/chenxingjian/PycharmProjects/mnt/mnt_project/FromZerotoOne_CN/data/hist2tscript/HER2_luminal/BC23450/BC23450_E2.jpg\n/home/chenxingjian/PycharmProjects/mnt/mnt_project/FromZerotoOne_CN/data/hist2tscript/HER2_luminal/BC23450/HE_BC23450_D2.jpg ======> /home/chenxingjian/PycharmProjects/mnt/mnt_project/FromZerotoOne_CN/data/hist2tscript/HER2_luminal/BC23450/BC23450_D2.jpg\n/home/chenxingjian/PycharmProjects/mnt/mnt_project/FromZerotoOne_CN/data/hist2tscript/HER2_luminal/BC23287/HE_BC23287_D1.jpg ======> /home/chenxingjian/PycharmProjects/mnt/mnt_project/FromZerotoOne_CN/data/hist2tscript/HER2_luminal/BC23287/BC23287_D1.jpg\n/home/chenxingjian/PycharmProjects/mnt/mnt_project/FromZerotoOne_CN/data/hist2tscript/HER2_luminal/BC23287/HE_BC23287_C1.jpg ======> /home/chenxingjian/PycharmProjects/mnt/mnt_project/FromZerotoOne_CN/data/hist2tscript/HER2_luminal/BC23287/BC23287_C1.jpg\n/home/chenxingjian/PycharmProjects/mnt/mnt_project/FromZerotoOne_CN/data/hist2tscript/HER2_luminal/BC23287/HE_BC23287_C2.jpg ======> /home/chenxingjian/PycharmProjects/mnt/mnt_project/FromZerotoOne_CN/data/hist2tscript/HER2_luminal/BC23287/BC23287_C2.jpg\n/home/chenxingjian/PycharmProjects/mnt/mnt_project/FromZerotoOne_CN/data/hist2tscript/HER2_luminal/BC23944/HE_BC23944_D2.jpg ======> /home/chenxingjian/PycharmProjects/mnt/mnt_project/FromZerotoOne_CN/data/hist2tscript/HER2_luminal/BC23944/BC23944_D2.jpg\n/home/chenxingjian/PycharmProjects/mnt/mnt_project/FromZerotoOne_CN/data/hist2tscript/HER2_luminal/BC23944/HE_BC23944_E2.jpg ======> /home/chenxingjian/PycharmProjects/mnt/mnt_project/FromZerotoOne_CN/data/hist2tscript/HER2_luminal/BC23944/BC23944_E2.jpg\n/home/chenxingjian/PycharmProjects/mnt/mnt_project/FromZerotoOne_CN/data/hist2tscript/HER2_luminal/BC23944/HE_BC23944_E1.jpg ======> /home/chenxingjian/PycharmProjects/mnt/mnt_project/FromZerotoOne_CN/data/hist2tscript/HER2_luminal/BC23944/BC23944_E1.jpg\n/home/chenxingjian/PycharmProjects/mnt/mnt_project/FromZerotoOne_CN/data/hist2tscript/HER2_non_luminal/BC23903/HE_BC23903_D1.jpg ======> /home/chenxingjian/PycharmProjects/mnt/mnt_project/FromZerotoOne_CN/data/hist2tscript/HER2_non_luminal/BC23903/BC23903_D1.jpg\n/home/chenxingjian/PycharmProjects/mnt/mnt_project/FromZerotoOne_CN/data/hist2tscript/HER2_non_luminal/BC23903/HE_BC23903_C2.jpg ======> /home/chenxingjian/PycharmProjects/mnt/mnt_project/FromZerotoOne_CN/data/hist2tscript/HER2_non_luminal/BC23903/BC23903_C2.jpg\n/home/chenxingjian/PycharmProjects/mnt/mnt_project/FromZerotoOne_CN/data/hist2tscript/HER2_non_luminal/BC23903/HE_BC23903_C1.jpg ======> /home/chenxingjian/PycharmProjects/mnt/mnt_project/FromZerotoOne_CN/data/hist2tscript/HER2_non_luminal/BC23903/BC23903_C1.jpg\n/home/chenxingjian/PycharmProjects/mnt/mnt_project/FromZerotoOne_CN/data/hist2tscript/HER2_non_luminal/BC23810/HE_BC23810_D2.jpg ======> /home/chenxingjian/PycharmProjects/mnt/mnt_project/FromZerotoOne_CN/data/hist2tscript/HER2_non_luminal/BC23810/BC23810_D2.jpg\n/home/chenxingjian/PycharmProjects/mnt/mnt_project/FromZerotoOne_CN/data/hist2tscript/HER2_non_luminal/BC23810/HE_BC23810_E2.jpg ======> /home/chenxingjian/PycharmProjects/mnt/mnt_project/FromZerotoOne_CN/data/hist2tscript/HER2_non_luminal/BC23810/BC23810_E2.jpg\n/home/chenxingjian/PycharmProjects/mnt/mnt_project/FromZerotoOne_CN/data/hist2tscript/HER2_non_luminal/BC23810/HE_BC23810_E1.jpg ======> /home/chenxingjian/PycharmProjects/mnt/mnt_project/FromZerotoOne_CN/data/hist2tscript/HER2_non_luminal/BC23810/BC23810_E1.jpg\n/home/chenxingjian/PycharmProjects/mnt/mnt_project/FromZerotoOne_CN/data/hist2tscript/HER2_non_luminal/BC24105/HE_BC24105_D1.jpg ======> /home/chenxingjian/PycharmProjects/mnt/mnt_project/FromZerotoOne_CN/data/hist2tscript/HER2_non_luminal/BC24105/BC24105_D1.jpg\n/home/chenxingjian/PycharmProjects/mnt/mnt_project/FromZerotoOne_CN/data/hist2tscript/HER2_non_luminal/BC24105/HE_BC24105_C2.jpg ======> /home/chenxingjian/PycharmProjects/mnt/mnt_project/FromZerotoOne_CN/data/hist2tscript/HER2_non_luminal/BC24105/BC24105_C2.jpg\n/home/chenxingjian/PycharmProjects/mnt/mnt_project/FromZerotoOne_CN/data/hist2tscript/HER2_non_luminal/BC24105/HE_BC24105_C1.jpg ======> /home/chenxingjian/PycharmProjects/mnt/mnt_project/FromZerotoOne_CN/data/hist2tscript/HER2_non_luminal/BC24105/BC24105_C1.jpg\n/home/chenxingjian/PycharmProjects/mnt/mnt_project/FromZerotoOne_CN/data/hist2tscript/HER2_non_luminal/BC24044/HE_BC24044_E2.jpg ======> /home/chenxingjian/PycharmProjects/mnt/mnt_project/FromZerotoOne_CN/data/hist2tscript/HER2_non_luminal/BC24044/BC24044_E2.jpg\n/home/chenxingjian/PycharmProjects/mnt/mnt_project/FromZerotoOne_CN/data/hist2tscript/HER2_non_luminal/BC24044/HE_BC24044_D2.jpg ======> /home/chenxingjian/PycharmProjects/mnt/mnt_project/FromZerotoOne_CN/data/hist2tscript/HER2_non_luminal/BC24044/BC24044_D2.jpg\n/home/chenxingjian/PycharmProjects/mnt/mnt_project/FromZerotoOne_CN/data/hist2tscript/HER2_non_luminal/BC24044/HE_BC24044_E1.jpg ======> /home/chenxingjian/PycharmProjects/mnt/mnt_project/FromZerotoOne_CN/data/hist2tscript/HER2_non_luminal/BC24044/BC24044_E1.jpg\n/home/chenxingjian/PycharmProjects/mnt/mnt_project/FromZerotoOne_CN/data/hist2tscript/HER2_non_luminal/BC23567/HE_BC23567_D2.jpg ======> /home/chenxingjian/PycharmProjects/mnt/mnt_project/FromZerotoOne_CN/data/hist2tscript/HER2_non_luminal/BC23567/BC23567_D2.jpg\n/home/chenxingjian/PycharmProjects/mnt/mnt_project/FromZerotoOne_CN/data/hist2tscript/HER2_non_luminal/BC23567/HE_BC23567_E1.jpg ======> /home/chenxingjian/PycharmProjects/mnt/mnt_project/FromZerotoOne_CN/data/hist2tscript/HER2_non_luminal/BC23567/BC23567_E1.jpg\n/home/chenxingjian/PycharmProjects/mnt/mnt_project/FromZerotoOne_CN/data/hist2tscript/HER2_non_luminal/BC23567/HE_BC23567_E2.jpg ======> /home/chenxingjian/PycharmProjects/mnt/mnt_project/FromZerotoOne_CN/data/hist2tscript/HER2_non_luminal/BC23567/BC23567_E2.jpg\n/home/chenxingjian/PycharmProjects/mnt/mnt_project/FromZerotoOne_CN/data/hist2tscript/Luminal_A/BC23269/HE_BC23269_D1.jpg ======> /home/chenxingjian/PycharmProjects/mnt/mnt_project/FromZerotoOne_CN/data/hist2tscript/Luminal_A/BC23269/BC23269_D1.jpg\n/home/chenxingjian/PycharmProjects/mnt/mnt_project/FromZerotoOne_CN/data/hist2tscript/Luminal_A/BC23269/HE_BC23269_C1.jpg ======> /home/chenxingjian/PycharmProjects/mnt/mnt_project/FromZerotoOne_CN/data/hist2tscript/Luminal_A/BC23269/BC23269_C1.jpg\n/home/chenxingjian/PycharmProjects/mnt/mnt_project/FromZerotoOne_CN/data/hist2tscript/Luminal_A/BC23269/HE_BC23269_C2.jpg ======> /home/chenxingjian/PycharmProjects/mnt/mnt_project/FromZerotoOne_CN/data/hist2tscript/Luminal_A/BC23269/BC23269_C2.jpg\n/home/chenxingjian/PycharmProjects/mnt/mnt_project/FromZerotoOne_CN/data/hist2tscript/Luminal_A/BC23268/HE_BC23268_C2.jpg ======> /home/chenxingjian/PycharmProjects/mnt/mnt_project/FromZerotoOne_CN/data/hist2tscript/Luminal_A/BC23268/BC23268_C2.jpg\n/home/chenxingjian/PycharmProjects/mnt/mnt_project/FromZerotoOne_CN/data/hist2tscript/Luminal_A/BC23268/HE_BC23268_C1.jpg ======> /home/chenxingjian/PycharmProjects/mnt/mnt_project/FromZerotoOne_CN/data/hist2tscript/Luminal_A/BC23268/BC23268_C1.jpg\n/home/chenxingjian/PycharmProjects/mnt/mnt_project/FromZerotoOne_CN/data/hist2tscript/Luminal_A/BC23268/HE_BC23268_D1.jpg ======> /home/chenxingjian/PycharmProjects/mnt/mnt_project/FromZerotoOne_CN/data/hist2tscript/Luminal_A/BC23268/BC23268_D1.jpg\n/home/chenxingjian/PycharmProjects/mnt/mnt_project/FromZerotoOne_CN/data/hist2tscript/Luminal_A/BC23272/HE_BC23272_D2.jpg ======> /home/chenxingjian/PycharmProjects/mnt/mnt_project/FromZerotoOne_CN/data/hist2tscript/Luminal_A/BC23272/BC23272_D2.jpg\n/home/chenxingjian/PycharmProjects/mnt/mnt_project/FromZerotoOne_CN/data/hist2tscript/Luminal_A/BC23272/HE_BC23272_E1.jpg ======> /home/chenxingjian/PycharmProjects/mnt/mnt_project/FromZerotoOne_CN/data/hist2tscript/Luminal_A/BC23272/BC23272_E1.jpg\n/home/chenxingjian/PycharmProjects/mnt/mnt_project/FromZerotoOne_CN/data/hist2tscript/Luminal_A/BC23272/HE_BC23272_E2.jpg ======> /home/chenxingjian/PycharmProjects/mnt/mnt_project/FromZerotoOne_CN/data/hist2tscript/Luminal_A/BC23272/BC23272_E2.jpg\n/home/chenxingjian/PycharmProjects/mnt/mnt_project/FromZerotoOne_CN/data/hist2tscript/Luminal_A/BC24223/HE_BC24223_E1.jpg ======> /home/chenxingjian/PycharmProjects/mnt/mnt_project/FromZerotoOne_CN/data/hist2tscript/Luminal_A/BC24223/BC24223_E1.jpg\n/home/chenxingjian/PycharmProjects/mnt/mnt_project/FromZerotoOne_CN/data/hist2tscript/Luminal_A/BC24223/HE_BC24223_E2.jpg ======> /home/chenxingjian/PycharmProjects/mnt/mnt_project/FromZerotoOne_CN/data/hist2tscript/Luminal_A/BC24223/BC24223_E2.jpg\n/home/chenxingjian/PycharmProjects/mnt/mnt_project/FromZerotoOne_CN/data/hist2tscript/Luminal_A/BC24223/HE_BC24223_D2.jpg ======> /home/chenxingjian/PycharmProjects/mnt/mnt_project/FromZerotoOne_CN/data/hist2tscript/Luminal_A/BC24223/BC24223_D2.jpg\n/home/chenxingjian/PycharmProjects/mnt/mnt_project/FromZerotoOne_CN/data/hist2tscript/TNBC/BC23377/HE_BC23377_D1.jpg ======> /home/chenxingjian/PycharmProjects/mnt/mnt_project/FromZerotoOne_CN/data/hist2tscript/TNBC/BC23377/BC23377_D1.jpg\n/home/chenxingjian/PycharmProjects/mnt/mnt_project/FromZerotoOne_CN/data/hist2tscript/TNBC/BC23377/HE_BC23377_C2.jpg ======> /home/chenxingjian/PycharmProjects/mnt/mnt_project/FromZerotoOne_CN/data/hist2tscript/TNBC/BC23377/BC23377_C2.jpg\n/home/chenxingjian/PycharmProjects/mnt/mnt_project/FromZerotoOne_CN/data/hist2tscript/TNBC/BC23377/HE_BC23377_C1.jpg ======> /home/chenxingjian/PycharmProjects/mnt/mnt_project/FromZerotoOne_CN/data/hist2tscript/TNBC/BC23377/BC23377_C1.jpg\n/home/chenxingjian/PycharmProjects/mnt/mnt_project/FromZerotoOne_CN/data/hist2tscript/TNBC/BC23288/HE_BC23288_E1.jpg ======> /home/chenxingjian/PycharmProjects/mnt/mnt_project/FromZerotoOne_CN/data/hist2tscript/TNBC/BC23288/BC23288_E1.jpg\n/home/chenxingjian/PycharmProjects/mnt/mnt_project/FromZerotoOne_CN/data/hist2tscript/TNBC/BC23288/HE_BC23288_D2.jpg ======> /home/chenxingjian/PycharmProjects/mnt/mnt_project/FromZerotoOne_CN/data/hist2tscript/TNBC/BC23288/BC23288_D2.jpg\n/home/chenxingjian/PycharmProjects/mnt/mnt_project/FromZerotoOne_CN/data/hist2tscript/TNBC/BC23288/HE_BC23288_E2.jpg ======> /home/chenxingjian/PycharmProjects/mnt/mnt_project/FromZerotoOne_CN/data/hist2tscript/TNBC/BC23288/BC23288_E2.jpg\n/home/chenxingjian/PycharmProjects/mnt/mnt_project/FromZerotoOne_CN/data/hist2tscript/TNBC/BC23209/HE_BC23209_C2.jpg ======> /home/chenxingjian/PycharmProjects/mnt/mnt_project/FromZerotoOne_CN/data/hist2tscript/TNBC/BC23209/BC23209_C2.jpg\n/home/chenxingjian/PycharmProjects/mnt/mnt_project/FromZerotoOne_CN/data/hist2tscript/TNBC/BC23209/HE_BC23209_D1.jpg ======> /home/chenxingjian/PycharmProjects/mnt/mnt_project/FromZerotoOne_CN/data/hist2tscript/TNBC/BC23209/BC23209_D1.jpg\n/home/chenxingjian/PycharmProjects/mnt/mnt_project/FromZerotoOne_CN/data/hist2tscript/TNBC/BC23209/HE_BC23209_C1.jpg ======> /home/chenxingjian/PycharmProjects/mnt/mnt_project/FromZerotoOne_CN/data/hist2tscript/TNBC/BC23209/BC23209_C1.jpg\n/home/chenxingjian/PycharmProjects/mnt/mnt_project/FromZerotoOne_CN/data/hist2tscript/TNBC/BC23803/HE_BC23803_E2.jpg ======> /home/chenxingjian/PycharmProjects/mnt/mnt_project/FromZerotoOne_CN/data/hist2tscript/TNBC/BC23803/BC23803_E2.jpg\n/home/chenxingjian/PycharmProjects/mnt/mnt_project/FromZerotoOne_CN/data/hist2tscript/TNBC/BC23803/HE_BC23803_E1.jpg ======> /home/chenxingjian/PycharmProjects/mnt/mnt_project/FromZerotoOne_CN/data/hist2tscript/TNBC/BC23803/BC23803_E1.jpg\n/home/chenxingjian/PycharmProjects/mnt/mnt_project/FromZerotoOne_CN/data/hist2tscript/TNBC/BC23803/HE_BC23803_D2.jpg ======> /home/chenxingjian/PycharmProjects/mnt/mnt_project/FromZerotoOne_CN/data/hist2tscript/TNBC/BC23803/BC23803_D2.jpg\n/home/chenxingjian/PycharmProjects/mnt/mnt_project/FromZerotoOne_CN/data/hist2tscript/Luminal_B/BC23506/HE_BC23506_C2.jpg ======> /home/chenxingjian/PycharmProjects/mnt/mnt_project/FromZerotoOne_CN/data/hist2tscript/Luminal_B/BC23506/BC23506_C2.jpg\n/home/chenxingjian/PycharmProjects/mnt/mnt_project/FromZerotoOne_CN/data/hist2tscript/Luminal_B/BC23506/HE_BC23506_C1.jpg ======> /home/chenxingjian/PycharmProjects/mnt/mnt_project/FromZerotoOne_CN/data/hist2tscript/Luminal_B/BC23506/BC23506_C1.jpg\n/home/chenxingjian/PycharmProjects/mnt/mnt_project/FromZerotoOne_CN/data/hist2tscript/Luminal_B/BC23506/HE_BC23506_D1.jpg ======> /home/chenxingjian/PycharmProjects/mnt/mnt_project/FromZerotoOne_CN/data/hist2tscript/Luminal_B/BC23506/BC23506_D1.jpg\n/home/chenxingjian/PycharmProjects/mnt/mnt_project/FromZerotoOne_CN/data/hist2tscript/Luminal_B/BC23508/HE_BC23508_E2.jpg ======> /home/chenxingjian/PycharmProjects/mnt/mnt_project/FromZerotoOne_CN/data/hist2tscript/Luminal_B/BC23508/BC23508_E2.jpg\n/home/chenxingjian/PycharmProjects/mnt/mnt_project/FromZerotoOne_CN/data/hist2tscript/Luminal_B/BC23508/HE_BC23508_D2.jpg ======> /home/chenxingjian/PycharmProjects/mnt/mnt_project/FromZerotoOne_CN/data/hist2tscript/Luminal_B/BC23508/BC23508_D2.jpg\n/home/chenxingjian/PycharmProjects/mnt/mnt_project/FromZerotoOne_CN/data/hist2tscript/Luminal_B/BC23508/HE_BC23508_E1.jpg ======> /home/chenxingjian/PycharmProjects/mnt/mnt_project/FromZerotoOne_CN/data/hist2tscript/Luminal_B/BC23508/BC23508_E1.jpg\n/home/chenxingjian/PycharmProjects/mnt/mnt_project/FromZerotoOne_CN/data/hist2tscript/Luminal_B/BC23277/HE_BC23277_E1.jpg ======> /home/chenxingjian/PycharmProjects/mnt/mnt_project/FromZerotoOne_CN/data/hist2tscript/Luminal_B/BC23277/BC23277_E1.jpg\n/home/chenxingjian/PycharmProjects/mnt/mnt_project/FromZerotoOne_CN/data/hist2tscript/Luminal_B/BC23277/HE_BC23277_E2.jpg ======> /home/chenxingjian/PycharmProjects/mnt/mnt_project/FromZerotoOne_CN/data/hist2tscript/Luminal_B/BC23277/BC23277_E2.jpg\n/home/chenxingjian/PycharmProjects/mnt/mnt_project/FromZerotoOne_CN/data/hist2tscript/Luminal_B/BC23277/HE_BC23277_D2.jpg ======> /home/chenxingjian/PycharmProjects/mnt/mnt_project/FromZerotoOne_CN/data/hist2tscript/Luminal_B/BC23277/BC23277_D2.jpg\n/home/chenxingjian/PycharmProjects/mnt/mnt_project/FromZerotoOne_CN/data/hist2tscript/Luminal_B/BC23270/HE_BC23270_E2.jpg ======> /home/chenxingjian/PycharmProjects/mnt/mnt_project/FromZerotoOne_CN/data/hist2tscript/Luminal_B/BC23270/BC23270_E2.jpg\n/home/chenxingjian/PycharmProjects/mnt/mnt_project/FromZerotoOne_CN/data/hist2tscript/Luminal_B/BC23270/HE_BC23270_D2.jpg ======> /home/chenxingjian/PycharmProjects/mnt/mnt_project/FromZerotoOne_CN/data/hist2tscript/Luminal_B/BC23270/BC23270_D2.jpg\n/home/chenxingjian/PycharmProjects/mnt/mnt_project/FromZerotoOne_CN/data/hist2tscript/Luminal_B/BC23270/HE_BC23270_E1.jpg ======> /home/chenxingjian/PycharmProjects/mnt/mnt_project/FromZerotoOne_CN/data/hist2tscript/Luminal_B/BC23270/BC23270_E1.jpg\n/home/chenxingjian/PycharmProjects/mnt/mnt_project/FromZerotoOne_CN/data/hist2tscript/Luminal_B/BC23895/HE_BC23895_C2.jpg ======> /home/chenxingjian/PycharmProjects/mnt/mnt_project/FromZerotoOne_CN/data/hist2tscript/Luminal_B/BC23895/BC23895_C2.jpg\n/home/chenxingjian/PycharmProjects/mnt/mnt_project/FromZerotoOne_CN/data/hist2tscript/Luminal_B/BC23895/HE_BC23895_C1.jpg ======> /home/chenxingjian/PycharmProjects/mnt/mnt_project/FromZerotoOne_CN/data/hist2tscript/Luminal_B/BC23895/BC23895_C1.jpg\n/home/chenxingjian/PycharmProjects/mnt/mnt_project/FromZerotoOne_CN/data/hist2tscript/Luminal_B/BC23895/HE_BC23895_D1.jpg ======> /home/chenxingjian/PycharmProjects/mnt/mnt_project/FromZerotoOne_CN/data/hist2tscript/Luminal_B/BC23895/BC23895_D1.jpg\n"
     ]
    }
   ],
   "source": [
    "for oldname in img_path:\n",
    "    newname = oldname.replace(\"HE_\", \"\")\n",
    "    os.rename(oldname,newname)   \n",
    "    print(oldname,'======>',newname)"
   ]
  },
  {
   "cell_type": "code",
   "execution_count": 72,
   "metadata": {},
   "outputs": [
    {
     "output_type": "execute_result",
     "data": {
      "text/plain": [
       "['/home/chenxingjian/PycharmProjects/mnt/mnt_project/FromZerotoOne_CN/data/hist2tscript/HER2_luminal/BC24220/BC24220_E1_stdata.tsv.gz',\n",
       " '/home/chenxingjian/PycharmProjects/mnt/mnt_project/FromZerotoOne_CN/data/hist2tscript/HER2_luminal/BC24220/BC24220_E2_stdata.tsv.gz',\n",
       " '/home/chenxingjian/PycharmProjects/mnt/mnt_project/FromZerotoOne_CN/data/hist2tscript/HER2_luminal/BC24220/BC24220_D2_stdata.tsv.gz',\n",
       " '/home/chenxingjian/PycharmProjects/mnt/mnt_project/FromZerotoOne_CN/data/hist2tscript/HER2_luminal/BC23901/BC23901_C2_stdata.tsv.gz',\n",
       " '/home/chenxingjian/PycharmProjects/mnt/mnt_project/FromZerotoOne_CN/data/hist2tscript/HER2_luminal/BC23901/BC23901_D1_stdata.tsv.gz',\n",
       " '/home/chenxingjian/PycharmProjects/mnt/mnt_project/FromZerotoOne_CN/data/hist2tscript/HER2_luminal/BC23450/BC23450_D2_stdata.tsv.gz',\n",
       " '/home/chenxingjian/PycharmProjects/mnt/mnt_project/FromZerotoOne_CN/data/hist2tscript/HER2_luminal/BC23450/BC23450_E2_stdata.tsv.gz',\n",
       " '/home/chenxingjian/PycharmProjects/mnt/mnt_project/FromZerotoOne_CN/data/hist2tscript/HER2_luminal/BC23450/BC23450_E1_stdata.tsv.gz',\n",
       " '/home/chenxingjian/PycharmProjects/mnt/mnt_project/FromZerotoOne_CN/data/hist2tscript/HER2_luminal/BC23287/BC23287_C1_stdata.tsv.gz',\n",
       " '/home/chenxingjian/PycharmProjects/mnt/mnt_project/FromZerotoOne_CN/data/hist2tscript/HER2_luminal/BC23287/BC23287_D1_stdata.tsv.gz',\n",
       " '/home/chenxingjian/PycharmProjects/mnt/mnt_project/FromZerotoOne_CN/data/hist2tscript/HER2_luminal/BC23287/BC23287_C2_stdata.tsv.gz',\n",
       " '/home/chenxingjian/PycharmProjects/mnt/mnt_project/FromZerotoOne_CN/data/hist2tscript/HER2_luminal/BC23944/BC23944_D2_stdata.tsv.gz',\n",
       " '/home/chenxingjian/PycharmProjects/mnt/mnt_project/FromZerotoOne_CN/data/hist2tscript/HER2_luminal/BC23944/BC23944_E1_stdata.tsv.gz',\n",
       " '/home/chenxingjian/PycharmProjects/mnt/mnt_project/FromZerotoOne_CN/data/hist2tscript/HER2_luminal/BC23944/BC23944_E2_stdata.tsv.gz',\n",
       " '/home/chenxingjian/PycharmProjects/mnt/mnt_project/FromZerotoOne_CN/data/hist2tscript/HER2_non_luminal/BC23903/BC23903_D1_stdata.tsv.gz',\n",
       " '/home/chenxingjian/PycharmProjects/mnt/mnt_project/FromZerotoOne_CN/data/hist2tscript/HER2_non_luminal/BC23903/BC23903_C1_stdata.tsv.gz',\n",
       " '/home/chenxingjian/PycharmProjects/mnt/mnt_project/FromZerotoOne_CN/data/hist2tscript/HER2_non_luminal/BC23903/BC23903_C2_stdata.tsv.gz',\n",
       " '/home/chenxingjian/PycharmProjects/mnt/mnt_project/FromZerotoOne_CN/data/hist2tscript/HER2_non_luminal/BC23810/BC23810_E1_stdata.tsv.gz',\n",
       " '/home/chenxingjian/PycharmProjects/mnt/mnt_project/FromZerotoOne_CN/data/hist2tscript/HER2_non_luminal/BC23810/BC23810_D2_stdata.tsv.gz',\n",
       " '/home/chenxingjian/PycharmProjects/mnt/mnt_project/FromZerotoOne_CN/data/hist2tscript/HER2_non_luminal/BC23810/BC23810_E2_stdata.tsv.gz',\n",
       " '/home/chenxingjian/PycharmProjects/mnt/mnt_project/FromZerotoOne_CN/data/hist2tscript/HER2_non_luminal/BC24105/BC24105_C2_stdata.tsv.gz',\n",
       " '/home/chenxingjian/PycharmProjects/mnt/mnt_project/FromZerotoOne_CN/data/hist2tscript/HER2_non_luminal/BC24105/BC24105_C1_stdata.tsv.gz',\n",
       " '/home/chenxingjian/PycharmProjects/mnt/mnt_project/FromZerotoOne_CN/data/hist2tscript/HER2_non_luminal/BC24105/BC24105_D1_stdata.tsv.gz',\n",
       " '/home/chenxingjian/PycharmProjects/mnt/mnt_project/FromZerotoOne_CN/data/hist2tscript/HER2_non_luminal/BC24044/BC24044_E1_stdata.tsv.gz',\n",
       " '/home/chenxingjian/PycharmProjects/mnt/mnt_project/FromZerotoOne_CN/data/hist2tscript/HER2_non_luminal/BC24044/BC24044_D2_stdata.tsv.gz',\n",
       " '/home/chenxingjian/PycharmProjects/mnt/mnt_project/FromZerotoOne_CN/data/hist2tscript/HER2_non_luminal/BC24044/BC24044_E2_stdata.tsv.gz',\n",
       " '/home/chenxingjian/PycharmProjects/mnt/mnt_project/FromZerotoOne_CN/data/hist2tscript/HER2_non_luminal/BC23567/BC23567_D2_stdata.tsv.gz',\n",
       " '/home/chenxingjian/PycharmProjects/mnt/mnt_project/FromZerotoOne_CN/data/hist2tscript/HER2_non_luminal/BC23567/BC23567_E1_stdata.tsv.gz',\n",
       " '/home/chenxingjian/PycharmProjects/mnt/mnt_project/FromZerotoOne_CN/data/hist2tscript/HER2_non_luminal/BC23567/BC23567_E2_stdata.tsv.gz',\n",
       " '/home/chenxingjian/PycharmProjects/mnt/mnt_project/FromZerotoOne_CN/data/hist2tscript/Luminal_A/BC23269/BC23269_D1_stdata.tsv.gz',\n",
       " '/home/chenxingjian/PycharmProjects/mnt/mnt_project/FromZerotoOne_CN/data/hist2tscript/Luminal_A/BC23269/BC23269_C1_stdata.tsv.gz',\n",
       " '/home/chenxingjian/PycharmProjects/mnt/mnt_project/FromZerotoOne_CN/data/hist2tscript/Luminal_A/BC23269/BC23269_C2_stdata.tsv.gz',\n",
       " '/home/chenxingjian/PycharmProjects/mnt/mnt_project/FromZerotoOne_CN/data/hist2tscript/Luminal_A/BC23268/BC23268_C2_stdata.tsv.gz',\n",
       " '/home/chenxingjian/PycharmProjects/mnt/mnt_project/FromZerotoOne_CN/data/hist2tscript/Luminal_A/BC23268/BC23268_C1_stdata.tsv.gz',\n",
       " '/home/chenxingjian/PycharmProjects/mnt/mnt_project/FromZerotoOne_CN/data/hist2tscript/Luminal_A/BC23268/BC23268_D1_stdata.tsv.gz',\n",
       " '/home/chenxingjian/PycharmProjects/mnt/mnt_project/FromZerotoOne_CN/data/hist2tscript/Luminal_A/BC23272/BC23272_D2_stdata.tsv.gz',\n",
       " '/home/chenxingjian/PycharmProjects/mnt/mnt_project/FromZerotoOne_CN/data/hist2tscript/Luminal_A/BC23272/BC23272_E2_stdata.tsv.gz',\n",
       " '/home/chenxingjian/PycharmProjects/mnt/mnt_project/FromZerotoOne_CN/data/hist2tscript/Luminal_A/BC23272/BC23272_E1_stdata.tsv.gz',\n",
       " '/home/chenxingjian/PycharmProjects/mnt/mnt_project/FromZerotoOne_CN/data/hist2tscript/Luminal_A/BC24223/BC24223_D2_stdata.tsv.gz',\n",
       " '/home/chenxingjian/PycharmProjects/mnt/mnt_project/FromZerotoOne_CN/data/hist2tscript/Luminal_A/BC24223/BC24223_E1_stdata.tsv.gz',\n",
       " '/home/chenxingjian/PycharmProjects/mnt/mnt_project/FromZerotoOne_CN/data/hist2tscript/Luminal_A/BC24223/BC24223_E2_stdata.tsv.gz',\n",
       " '/home/chenxingjian/PycharmProjects/mnt/mnt_project/FromZerotoOne_CN/data/hist2tscript/TNBC/BC23377/BC23377_C2_stdata.tsv.gz',\n",
       " '/home/chenxingjian/PycharmProjects/mnt/mnt_project/FromZerotoOne_CN/data/hist2tscript/TNBC/BC23377/BC23377_C1_stdata.tsv.gz',\n",
       " '/home/chenxingjian/PycharmProjects/mnt/mnt_project/FromZerotoOne_CN/data/hist2tscript/TNBC/BC23377/BC23377_D1_stdata.tsv.gz',\n",
       " '/home/chenxingjian/PycharmProjects/mnt/mnt_project/FromZerotoOne_CN/data/hist2tscript/TNBC/BC23288/BC23288_E2_stdata.tsv.gz',\n",
       " '/home/chenxingjian/PycharmProjects/mnt/mnt_project/FromZerotoOne_CN/data/hist2tscript/TNBC/BC23288/BC23288_E1_stdata.tsv.gz',\n",
       " '/home/chenxingjian/PycharmProjects/mnt/mnt_project/FromZerotoOne_CN/data/hist2tscript/TNBC/BC23288/BC23288_D2_stdata.tsv.gz',\n",
       " '/home/chenxingjian/PycharmProjects/mnt/mnt_project/FromZerotoOne_CN/data/hist2tscript/TNBC/BC23209/BC23209_D1_stdata.tsv.gz',\n",
       " '/home/chenxingjian/PycharmProjects/mnt/mnt_project/FromZerotoOne_CN/data/hist2tscript/TNBC/BC23209/BC23209_C1_stdata.tsv.gz',\n",
       " '/home/chenxingjian/PycharmProjects/mnt/mnt_project/FromZerotoOne_CN/data/hist2tscript/TNBC/BC23209/BC23209_C2_stdata.tsv.gz',\n",
       " '/home/chenxingjian/PycharmProjects/mnt/mnt_project/FromZerotoOne_CN/data/hist2tscript/TNBC/BC23803/BC23803_E2_stdata.tsv.gz',\n",
       " '/home/chenxingjian/PycharmProjects/mnt/mnt_project/FromZerotoOne_CN/data/hist2tscript/TNBC/BC23803/BC23803_D2_stdata.tsv.gz',\n",
       " '/home/chenxingjian/PycharmProjects/mnt/mnt_project/FromZerotoOne_CN/data/hist2tscript/TNBC/BC23803/BC23803_E1_stdata.tsv.gz',\n",
       " '/home/chenxingjian/PycharmProjects/mnt/mnt_project/FromZerotoOne_CN/data/hist2tscript/Luminal_B/BC23506/BC23506_C2_stdata.tsv.gz',\n",
       " '/home/chenxingjian/PycharmProjects/mnt/mnt_project/FromZerotoOne_CN/data/hist2tscript/Luminal_B/BC23506/BC23506_C1_stdata.tsv.gz',\n",
       " '/home/chenxingjian/PycharmProjects/mnt/mnt_project/FromZerotoOne_CN/data/hist2tscript/Luminal_B/BC23506/BC23506_D1_stdata.tsv.gz',\n",
       " '/home/chenxingjian/PycharmProjects/mnt/mnt_project/FromZerotoOne_CN/data/hist2tscript/Luminal_B/BC23508/BC23508_D2_stdata.tsv.gz',\n",
       " '/home/chenxingjian/PycharmProjects/mnt/mnt_project/FromZerotoOne_CN/data/hist2tscript/Luminal_B/BC23508/BC23508_E2_stdata.tsv.gz',\n",
       " '/home/chenxingjian/PycharmProjects/mnt/mnt_project/FromZerotoOne_CN/data/hist2tscript/Luminal_B/BC23508/BC23508_E1_stdata.tsv.gz',\n",
       " '/home/chenxingjian/PycharmProjects/mnt/mnt_project/FromZerotoOne_CN/data/hist2tscript/Luminal_B/BC23277/BC23277_E2_stdata.tsv.gz',\n",
       " '/home/chenxingjian/PycharmProjects/mnt/mnt_project/FromZerotoOne_CN/data/hist2tscript/Luminal_B/BC23277/BC23277_D2_stdata.tsv.gz',\n",
       " '/home/chenxingjian/PycharmProjects/mnt/mnt_project/FromZerotoOne_CN/data/hist2tscript/Luminal_B/BC23277/BC23277_E1_stdata.tsv.gz',\n",
       " '/home/chenxingjian/PycharmProjects/mnt/mnt_project/FromZerotoOne_CN/data/hist2tscript/Luminal_B/BC23270/BC23270_D2_stdata.tsv.gz',\n",
       " '/home/chenxingjian/PycharmProjects/mnt/mnt_project/FromZerotoOne_CN/data/hist2tscript/Luminal_B/BC23270/BC23270_E2_stdata.tsv.gz',\n",
       " '/home/chenxingjian/PycharmProjects/mnt/mnt_project/FromZerotoOne_CN/data/hist2tscript/Luminal_B/BC23270/BC23270_E1_stdata.tsv.gz',\n",
       " '/home/chenxingjian/PycharmProjects/mnt/mnt_project/FromZerotoOne_CN/data/hist2tscript/Luminal_B/BC23895/BC23895_C1_stdata.tsv.gz',\n",
       " '/home/chenxingjian/PycharmProjects/mnt/mnt_project/FromZerotoOne_CN/data/hist2tscript/Luminal_B/BC23895/BC23895_C2_stdata.tsv.gz',\n",
       " '/home/chenxingjian/PycharmProjects/mnt/mnt_project/FromZerotoOne_CN/data/hist2tscript/Luminal_B/BC23895/BC23895_D1_stdata.tsv.gz']"
      ]
     },
     "metadata": {},
     "execution_count": 72
    }
   ],
   "source": [
    "count_path = []\n",
    "for j,k,l in os.walk(current_path):\n",
    "    for f in l:\n",
    "        if '_stdata' in f: \n",
    "            count_path.append(j+'/'+f)\n",
    "count_path         "
   ]
  },
  {
   "cell_type": "code",
   "execution_count": 73,
   "metadata": {},
   "outputs": [
    {
     "output_type": "stream",
     "name": "stdout",
     "text": [
      "/home/chenxingjian/PycharmProjects/mnt/mnt_project/FromZerotoOne_CN/data/hist2tscript/HER2_luminal/BC24220/BC24220_E1_stdata.tsv.gz ======> /home/chenxingjian/PycharmProjects/mnt/mnt_project/FromZerotoOne_CN/data/hist2tscript/HER2_luminal/BC24220/BC24220_E1.tsv.gz\n/home/chenxingjian/PycharmProjects/mnt/mnt_project/FromZerotoOne_CN/data/hist2tscript/HER2_luminal/BC24220/BC24220_E2_stdata.tsv.gz ======> /home/chenxingjian/PycharmProjects/mnt/mnt_project/FromZerotoOne_CN/data/hist2tscript/HER2_luminal/BC24220/BC24220_E2.tsv.gz\n/home/chenxingjian/PycharmProjects/mnt/mnt_project/FromZerotoOne_CN/data/hist2tscript/HER2_luminal/BC24220/BC24220_D2_stdata.tsv.gz ======> /home/chenxingjian/PycharmProjects/mnt/mnt_project/FromZerotoOne_CN/data/hist2tscript/HER2_luminal/BC24220/BC24220_D2.tsv.gz\n/home/chenxingjian/PycharmProjects/mnt/mnt_project/FromZerotoOne_CN/data/hist2tscript/HER2_luminal/BC23901/BC23901_C2_stdata.tsv.gz ======> /home/chenxingjian/PycharmProjects/mnt/mnt_project/FromZerotoOne_CN/data/hist2tscript/HER2_luminal/BC23901/BC23901_C2.tsv.gz\n/home/chenxingjian/PycharmProjects/mnt/mnt_project/FromZerotoOne_CN/data/hist2tscript/HER2_luminal/BC23901/BC23901_D1_stdata.tsv.gz ======> /home/chenxingjian/PycharmProjects/mnt/mnt_project/FromZerotoOne_CN/data/hist2tscript/HER2_luminal/BC23901/BC23901_D1.tsv.gz\n/home/chenxingjian/PycharmProjects/mnt/mnt_project/FromZerotoOne_CN/data/hist2tscript/HER2_luminal/BC23450/BC23450_D2_stdata.tsv.gz ======> /home/chenxingjian/PycharmProjects/mnt/mnt_project/FromZerotoOne_CN/data/hist2tscript/HER2_luminal/BC23450/BC23450_D2.tsv.gz\n/home/chenxingjian/PycharmProjects/mnt/mnt_project/FromZerotoOne_CN/data/hist2tscript/HER2_luminal/BC23450/BC23450_E2_stdata.tsv.gz ======> /home/chenxingjian/PycharmProjects/mnt/mnt_project/FromZerotoOne_CN/data/hist2tscript/HER2_luminal/BC23450/BC23450_E2.tsv.gz\n/home/chenxingjian/PycharmProjects/mnt/mnt_project/FromZerotoOne_CN/data/hist2tscript/HER2_luminal/BC23450/BC23450_E1_stdata.tsv.gz ======> /home/chenxingjian/PycharmProjects/mnt/mnt_project/FromZerotoOne_CN/data/hist2tscript/HER2_luminal/BC23450/BC23450_E1.tsv.gz\n/home/chenxingjian/PycharmProjects/mnt/mnt_project/FromZerotoOne_CN/data/hist2tscript/HER2_luminal/BC23287/BC23287_C1_stdata.tsv.gz ======> /home/chenxingjian/PycharmProjects/mnt/mnt_project/FromZerotoOne_CN/data/hist2tscript/HER2_luminal/BC23287/BC23287_C1.tsv.gz\n/home/chenxingjian/PycharmProjects/mnt/mnt_project/FromZerotoOne_CN/data/hist2tscript/HER2_luminal/BC23287/BC23287_D1_stdata.tsv.gz ======> /home/chenxingjian/PycharmProjects/mnt/mnt_project/FromZerotoOne_CN/data/hist2tscript/HER2_luminal/BC23287/BC23287_D1.tsv.gz\n/home/chenxingjian/PycharmProjects/mnt/mnt_project/FromZerotoOne_CN/data/hist2tscript/HER2_luminal/BC23287/BC23287_C2_stdata.tsv.gz ======> /home/chenxingjian/PycharmProjects/mnt/mnt_project/FromZerotoOne_CN/data/hist2tscript/HER2_luminal/BC23287/BC23287_C2.tsv.gz\n/home/chenxingjian/PycharmProjects/mnt/mnt_project/FromZerotoOne_CN/data/hist2tscript/HER2_luminal/BC23944/BC23944_D2_stdata.tsv.gz ======> /home/chenxingjian/PycharmProjects/mnt/mnt_project/FromZerotoOne_CN/data/hist2tscript/HER2_luminal/BC23944/BC23944_D2.tsv.gz\n/home/chenxingjian/PycharmProjects/mnt/mnt_project/FromZerotoOne_CN/data/hist2tscript/HER2_luminal/BC23944/BC23944_E1_stdata.tsv.gz ======> /home/chenxingjian/PycharmProjects/mnt/mnt_project/FromZerotoOne_CN/data/hist2tscript/HER2_luminal/BC23944/BC23944_E1.tsv.gz\n/home/chenxingjian/PycharmProjects/mnt/mnt_project/FromZerotoOne_CN/data/hist2tscript/HER2_luminal/BC23944/BC23944_E2_stdata.tsv.gz ======> /home/chenxingjian/PycharmProjects/mnt/mnt_project/FromZerotoOne_CN/data/hist2tscript/HER2_luminal/BC23944/BC23944_E2.tsv.gz\n/home/chenxingjian/PycharmProjects/mnt/mnt_project/FromZerotoOne_CN/data/hist2tscript/HER2_non_luminal/BC23903/BC23903_D1_stdata.tsv.gz ======> /home/chenxingjian/PycharmProjects/mnt/mnt_project/FromZerotoOne_CN/data/hist2tscript/HER2_non_luminal/BC23903/BC23903_D1.tsv.gz\n/home/chenxingjian/PycharmProjects/mnt/mnt_project/FromZerotoOne_CN/data/hist2tscript/HER2_non_luminal/BC23903/BC23903_C1_stdata.tsv.gz ======> /home/chenxingjian/PycharmProjects/mnt/mnt_project/FromZerotoOne_CN/data/hist2tscript/HER2_non_luminal/BC23903/BC23903_C1.tsv.gz\n/home/chenxingjian/PycharmProjects/mnt/mnt_project/FromZerotoOne_CN/data/hist2tscript/HER2_non_luminal/BC23903/BC23903_C2_stdata.tsv.gz ======> /home/chenxingjian/PycharmProjects/mnt/mnt_project/FromZerotoOne_CN/data/hist2tscript/HER2_non_luminal/BC23903/BC23903_C2.tsv.gz\n/home/chenxingjian/PycharmProjects/mnt/mnt_project/FromZerotoOne_CN/data/hist2tscript/HER2_non_luminal/BC23810/BC23810_E1_stdata.tsv.gz ======> /home/chenxingjian/PycharmProjects/mnt/mnt_project/FromZerotoOne_CN/data/hist2tscript/HER2_non_luminal/BC23810/BC23810_E1.tsv.gz\n/home/chenxingjian/PycharmProjects/mnt/mnt_project/FromZerotoOne_CN/data/hist2tscript/HER2_non_luminal/BC23810/BC23810_D2_stdata.tsv.gz ======> /home/chenxingjian/PycharmProjects/mnt/mnt_project/FromZerotoOne_CN/data/hist2tscript/HER2_non_luminal/BC23810/BC23810_D2.tsv.gz\n/home/chenxingjian/PycharmProjects/mnt/mnt_project/FromZerotoOne_CN/data/hist2tscript/HER2_non_luminal/BC23810/BC23810_E2_stdata.tsv.gz ======> /home/chenxingjian/PycharmProjects/mnt/mnt_project/FromZerotoOne_CN/data/hist2tscript/HER2_non_luminal/BC23810/BC23810_E2.tsv.gz\n/home/chenxingjian/PycharmProjects/mnt/mnt_project/FromZerotoOne_CN/data/hist2tscript/HER2_non_luminal/BC24105/BC24105_C2_stdata.tsv.gz ======> /home/chenxingjian/PycharmProjects/mnt/mnt_project/FromZerotoOne_CN/data/hist2tscript/HER2_non_luminal/BC24105/BC24105_C2.tsv.gz\n/home/chenxingjian/PycharmProjects/mnt/mnt_project/FromZerotoOne_CN/data/hist2tscript/HER2_non_luminal/BC24105/BC24105_C1_stdata.tsv.gz ======> /home/chenxingjian/PycharmProjects/mnt/mnt_project/FromZerotoOne_CN/data/hist2tscript/HER2_non_luminal/BC24105/BC24105_C1.tsv.gz\n/home/chenxingjian/PycharmProjects/mnt/mnt_project/FromZerotoOne_CN/data/hist2tscript/HER2_non_luminal/BC24105/BC24105_D1_stdata.tsv.gz ======> /home/chenxingjian/PycharmProjects/mnt/mnt_project/FromZerotoOne_CN/data/hist2tscript/HER2_non_luminal/BC24105/BC24105_D1.tsv.gz\n/home/chenxingjian/PycharmProjects/mnt/mnt_project/FromZerotoOne_CN/data/hist2tscript/HER2_non_luminal/BC24044/BC24044_E1_stdata.tsv.gz ======> /home/chenxingjian/PycharmProjects/mnt/mnt_project/FromZerotoOne_CN/data/hist2tscript/HER2_non_luminal/BC24044/BC24044_E1.tsv.gz\n/home/chenxingjian/PycharmProjects/mnt/mnt_project/FromZerotoOne_CN/data/hist2tscript/HER2_non_luminal/BC24044/BC24044_D2_stdata.tsv.gz ======> /home/chenxingjian/PycharmProjects/mnt/mnt_project/FromZerotoOne_CN/data/hist2tscript/HER2_non_luminal/BC24044/BC24044_D2.tsv.gz\n/home/chenxingjian/PycharmProjects/mnt/mnt_project/FromZerotoOne_CN/data/hist2tscript/HER2_non_luminal/BC24044/BC24044_E2_stdata.tsv.gz ======> /home/chenxingjian/PycharmProjects/mnt/mnt_project/FromZerotoOne_CN/data/hist2tscript/HER2_non_luminal/BC24044/BC24044_E2.tsv.gz\n/home/chenxingjian/PycharmProjects/mnt/mnt_project/FromZerotoOne_CN/data/hist2tscript/HER2_non_luminal/BC23567/BC23567_D2_stdata.tsv.gz ======> /home/chenxingjian/PycharmProjects/mnt/mnt_project/FromZerotoOne_CN/data/hist2tscript/HER2_non_luminal/BC23567/BC23567_D2.tsv.gz\n/home/chenxingjian/PycharmProjects/mnt/mnt_project/FromZerotoOne_CN/data/hist2tscript/HER2_non_luminal/BC23567/BC23567_E1_stdata.tsv.gz ======> /home/chenxingjian/PycharmProjects/mnt/mnt_project/FromZerotoOne_CN/data/hist2tscript/HER2_non_luminal/BC23567/BC23567_E1.tsv.gz\n/home/chenxingjian/PycharmProjects/mnt/mnt_project/FromZerotoOne_CN/data/hist2tscript/HER2_non_luminal/BC23567/BC23567_E2_stdata.tsv.gz ======> /home/chenxingjian/PycharmProjects/mnt/mnt_project/FromZerotoOne_CN/data/hist2tscript/HER2_non_luminal/BC23567/BC23567_E2.tsv.gz\n/home/chenxingjian/PycharmProjects/mnt/mnt_project/FromZerotoOne_CN/data/hist2tscript/Luminal_A/BC23269/BC23269_D1_stdata.tsv.gz ======> /home/chenxingjian/PycharmProjects/mnt/mnt_project/FromZerotoOne_CN/data/hist2tscript/Luminal_A/BC23269/BC23269_D1.tsv.gz\n/home/chenxingjian/PycharmProjects/mnt/mnt_project/FromZerotoOne_CN/data/hist2tscript/Luminal_A/BC23269/BC23269_C1_stdata.tsv.gz ======> /home/chenxingjian/PycharmProjects/mnt/mnt_project/FromZerotoOne_CN/data/hist2tscript/Luminal_A/BC23269/BC23269_C1.tsv.gz\n/home/chenxingjian/PycharmProjects/mnt/mnt_project/FromZerotoOne_CN/data/hist2tscript/Luminal_A/BC23269/BC23269_C2_stdata.tsv.gz ======> /home/chenxingjian/PycharmProjects/mnt/mnt_project/FromZerotoOne_CN/data/hist2tscript/Luminal_A/BC23269/BC23269_C2.tsv.gz\n/home/chenxingjian/PycharmProjects/mnt/mnt_project/FromZerotoOne_CN/data/hist2tscript/Luminal_A/BC23268/BC23268_C2_stdata.tsv.gz ======> /home/chenxingjian/PycharmProjects/mnt/mnt_project/FromZerotoOne_CN/data/hist2tscript/Luminal_A/BC23268/BC23268_C2.tsv.gz\n/home/chenxingjian/PycharmProjects/mnt/mnt_project/FromZerotoOne_CN/data/hist2tscript/Luminal_A/BC23268/BC23268_C1_stdata.tsv.gz ======> /home/chenxingjian/PycharmProjects/mnt/mnt_project/FromZerotoOne_CN/data/hist2tscript/Luminal_A/BC23268/BC23268_C1.tsv.gz\n/home/chenxingjian/PycharmProjects/mnt/mnt_project/FromZerotoOne_CN/data/hist2tscript/Luminal_A/BC23268/BC23268_D1_stdata.tsv.gz ======> /home/chenxingjian/PycharmProjects/mnt/mnt_project/FromZerotoOne_CN/data/hist2tscript/Luminal_A/BC23268/BC23268_D1.tsv.gz\n/home/chenxingjian/PycharmProjects/mnt/mnt_project/FromZerotoOne_CN/data/hist2tscript/Luminal_A/BC23272/BC23272_D2_stdata.tsv.gz ======> /home/chenxingjian/PycharmProjects/mnt/mnt_project/FromZerotoOne_CN/data/hist2tscript/Luminal_A/BC23272/BC23272_D2.tsv.gz\n/home/chenxingjian/PycharmProjects/mnt/mnt_project/FromZerotoOne_CN/data/hist2tscript/Luminal_A/BC23272/BC23272_E2_stdata.tsv.gz ======> /home/chenxingjian/PycharmProjects/mnt/mnt_project/FromZerotoOne_CN/data/hist2tscript/Luminal_A/BC23272/BC23272_E2.tsv.gz\n/home/chenxingjian/PycharmProjects/mnt/mnt_project/FromZerotoOne_CN/data/hist2tscript/Luminal_A/BC23272/BC23272_E1_stdata.tsv.gz ======> /home/chenxingjian/PycharmProjects/mnt/mnt_project/FromZerotoOne_CN/data/hist2tscript/Luminal_A/BC23272/BC23272_E1.tsv.gz\n/home/chenxingjian/PycharmProjects/mnt/mnt_project/FromZerotoOne_CN/data/hist2tscript/Luminal_A/BC24223/BC24223_D2_stdata.tsv.gz ======> /home/chenxingjian/PycharmProjects/mnt/mnt_project/FromZerotoOne_CN/data/hist2tscript/Luminal_A/BC24223/BC24223_D2.tsv.gz\n/home/chenxingjian/PycharmProjects/mnt/mnt_project/FromZerotoOne_CN/data/hist2tscript/Luminal_A/BC24223/BC24223_E1_stdata.tsv.gz ======> /home/chenxingjian/PycharmProjects/mnt/mnt_project/FromZerotoOne_CN/data/hist2tscript/Luminal_A/BC24223/BC24223_E1.tsv.gz\n/home/chenxingjian/PycharmProjects/mnt/mnt_project/FromZerotoOne_CN/data/hist2tscript/Luminal_A/BC24223/BC24223_E2_stdata.tsv.gz ======> /home/chenxingjian/PycharmProjects/mnt/mnt_project/FromZerotoOne_CN/data/hist2tscript/Luminal_A/BC24223/BC24223_E2.tsv.gz\n/home/chenxingjian/PycharmProjects/mnt/mnt_project/FromZerotoOne_CN/data/hist2tscript/TNBC/BC23377/BC23377_C2_stdata.tsv.gz ======> /home/chenxingjian/PycharmProjects/mnt/mnt_project/FromZerotoOne_CN/data/hist2tscript/TNBC/BC23377/BC23377_C2.tsv.gz\n/home/chenxingjian/PycharmProjects/mnt/mnt_project/FromZerotoOne_CN/data/hist2tscript/TNBC/BC23377/BC23377_C1_stdata.tsv.gz ======> /home/chenxingjian/PycharmProjects/mnt/mnt_project/FromZerotoOne_CN/data/hist2tscript/TNBC/BC23377/BC23377_C1.tsv.gz\n/home/chenxingjian/PycharmProjects/mnt/mnt_project/FromZerotoOne_CN/data/hist2tscript/TNBC/BC23377/BC23377_D1_stdata.tsv.gz ======> /home/chenxingjian/PycharmProjects/mnt/mnt_project/FromZerotoOne_CN/data/hist2tscript/TNBC/BC23377/BC23377_D1.tsv.gz\n/home/chenxingjian/PycharmProjects/mnt/mnt_project/FromZerotoOne_CN/data/hist2tscript/TNBC/BC23288/BC23288_E2_stdata.tsv.gz ======> /home/chenxingjian/PycharmProjects/mnt/mnt_project/FromZerotoOne_CN/data/hist2tscript/TNBC/BC23288/BC23288_E2.tsv.gz\n/home/chenxingjian/PycharmProjects/mnt/mnt_project/FromZerotoOne_CN/data/hist2tscript/TNBC/BC23288/BC23288_E1_stdata.tsv.gz ======> /home/chenxingjian/PycharmProjects/mnt/mnt_project/FromZerotoOne_CN/data/hist2tscript/TNBC/BC23288/BC23288_E1.tsv.gz\n/home/chenxingjian/PycharmProjects/mnt/mnt_project/FromZerotoOne_CN/data/hist2tscript/TNBC/BC23288/BC23288_D2_stdata.tsv.gz ======> /home/chenxingjian/PycharmProjects/mnt/mnt_project/FromZerotoOne_CN/data/hist2tscript/TNBC/BC23288/BC23288_D2.tsv.gz\n/home/chenxingjian/PycharmProjects/mnt/mnt_project/FromZerotoOne_CN/data/hist2tscript/TNBC/BC23209/BC23209_D1_stdata.tsv.gz ======> /home/chenxingjian/PycharmProjects/mnt/mnt_project/FromZerotoOne_CN/data/hist2tscript/TNBC/BC23209/BC23209_D1.tsv.gz\n/home/chenxingjian/PycharmProjects/mnt/mnt_project/FromZerotoOne_CN/data/hist2tscript/TNBC/BC23209/BC23209_C1_stdata.tsv.gz ======> /home/chenxingjian/PycharmProjects/mnt/mnt_project/FromZerotoOne_CN/data/hist2tscript/TNBC/BC23209/BC23209_C1.tsv.gz\n/home/chenxingjian/PycharmProjects/mnt/mnt_project/FromZerotoOne_CN/data/hist2tscript/TNBC/BC23209/BC23209_C2_stdata.tsv.gz ======> /home/chenxingjian/PycharmProjects/mnt/mnt_project/FromZerotoOne_CN/data/hist2tscript/TNBC/BC23209/BC23209_C2.tsv.gz\n/home/chenxingjian/PycharmProjects/mnt/mnt_project/FromZerotoOne_CN/data/hist2tscript/TNBC/BC23803/BC23803_E2_stdata.tsv.gz ======> /home/chenxingjian/PycharmProjects/mnt/mnt_project/FromZerotoOne_CN/data/hist2tscript/TNBC/BC23803/BC23803_E2.tsv.gz\n/home/chenxingjian/PycharmProjects/mnt/mnt_project/FromZerotoOne_CN/data/hist2tscript/TNBC/BC23803/BC23803_D2_stdata.tsv.gz ======> /home/chenxingjian/PycharmProjects/mnt/mnt_project/FromZerotoOne_CN/data/hist2tscript/TNBC/BC23803/BC23803_D2.tsv.gz\n/home/chenxingjian/PycharmProjects/mnt/mnt_project/FromZerotoOne_CN/data/hist2tscript/TNBC/BC23803/BC23803_E1_stdata.tsv.gz ======> /home/chenxingjian/PycharmProjects/mnt/mnt_project/FromZerotoOne_CN/data/hist2tscript/TNBC/BC23803/BC23803_E1.tsv.gz\n/home/chenxingjian/PycharmProjects/mnt/mnt_project/FromZerotoOne_CN/data/hist2tscript/Luminal_B/BC23506/BC23506_C2_stdata.tsv.gz ======> /home/chenxingjian/PycharmProjects/mnt/mnt_project/FromZerotoOne_CN/data/hist2tscript/Luminal_B/BC23506/BC23506_C2.tsv.gz\n/home/chenxingjian/PycharmProjects/mnt/mnt_project/FromZerotoOne_CN/data/hist2tscript/Luminal_B/BC23506/BC23506_C1_stdata.tsv.gz ======> /home/chenxingjian/PycharmProjects/mnt/mnt_project/FromZerotoOne_CN/data/hist2tscript/Luminal_B/BC23506/BC23506_C1.tsv.gz\n/home/chenxingjian/PycharmProjects/mnt/mnt_project/FromZerotoOne_CN/data/hist2tscript/Luminal_B/BC23506/BC23506_D1_stdata.tsv.gz ======> /home/chenxingjian/PycharmProjects/mnt/mnt_project/FromZerotoOne_CN/data/hist2tscript/Luminal_B/BC23506/BC23506_D1.tsv.gz\n/home/chenxingjian/PycharmProjects/mnt/mnt_project/FromZerotoOne_CN/data/hist2tscript/Luminal_B/BC23508/BC23508_D2_stdata.tsv.gz ======> /home/chenxingjian/PycharmProjects/mnt/mnt_project/FromZerotoOne_CN/data/hist2tscript/Luminal_B/BC23508/BC23508_D2.tsv.gz\n/home/chenxingjian/PycharmProjects/mnt/mnt_project/FromZerotoOne_CN/data/hist2tscript/Luminal_B/BC23508/BC23508_E2_stdata.tsv.gz ======> /home/chenxingjian/PycharmProjects/mnt/mnt_project/FromZerotoOne_CN/data/hist2tscript/Luminal_B/BC23508/BC23508_E2.tsv.gz\n/home/chenxingjian/PycharmProjects/mnt/mnt_project/FromZerotoOne_CN/data/hist2tscript/Luminal_B/BC23508/BC23508_E1_stdata.tsv.gz ======> /home/chenxingjian/PycharmProjects/mnt/mnt_project/FromZerotoOne_CN/data/hist2tscript/Luminal_B/BC23508/BC23508_E1.tsv.gz\n/home/chenxingjian/PycharmProjects/mnt/mnt_project/FromZerotoOne_CN/data/hist2tscript/Luminal_B/BC23277/BC23277_E2_stdata.tsv.gz ======> /home/chenxingjian/PycharmProjects/mnt/mnt_project/FromZerotoOne_CN/data/hist2tscript/Luminal_B/BC23277/BC23277_E2.tsv.gz\n/home/chenxingjian/PycharmProjects/mnt/mnt_project/FromZerotoOne_CN/data/hist2tscript/Luminal_B/BC23277/BC23277_D2_stdata.tsv.gz ======> /home/chenxingjian/PycharmProjects/mnt/mnt_project/FromZerotoOne_CN/data/hist2tscript/Luminal_B/BC23277/BC23277_D2.tsv.gz\n/home/chenxingjian/PycharmProjects/mnt/mnt_project/FromZerotoOne_CN/data/hist2tscript/Luminal_B/BC23277/BC23277_E1_stdata.tsv.gz ======> /home/chenxingjian/PycharmProjects/mnt/mnt_project/FromZerotoOne_CN/data/hist2tscript/Luminal_B/BC23277/BC23277_E1.tsv.gz\n/home/chenxingjian/PycharmProjects/mnt/mnt_project/FromZerotoOne_CN/data/hist2tscript/Luminal_B/BC23270/BC23270_D2_stdata.tsv.gz ======> /home/chenxingjian/PycharmProjects/mnt/mnt_project/FromZerotoOne_CN/data/hist2tscript/Luminal_B/BC23270/BC23270_D2.tsv.gz\n/home/chenxingjian/PycharmProjects/mnt/mnt_project/FromZerotoOne_CN/data/hist2tscript/Luminal_B/BC23270/BC23270_E2_stdata.tsv.gz ======> /home/chenxingjian/PycharmProjects/mnt/mnt_project/FromZerotoOne_CN/data/hist2tscript/Luminal_B/BC23270/BC23270_E2.tsv.gz\n/home/chenxingjian/PycharmProjects/mnt/mnt_project/FromZerotoOne_CN/data/hist2tscript/Luminal_B/BC23270/BC23270_E1_stdata.tsv.gz ======> /home/chenxingjian/PycharmProjects/mnt/mnt_project/FromZerotoOne_CN/data/hist2tscript/Luminal_B/BC23270/BC23270_E1.tsv.gz\n/home/chenxingjian/PycharmProjects/mnt/mnt_project/FromZerotoOne_CN/data/hist2tscript/Luminal_B/BC23895/BC23895_C1_stdata.tsv.gz ======> /home/chenxingjian/PycharmProjects/mnt/mnt_project/FromZerotoOne_CN/data/hist2tscript/Luminal_B/BC23895/BC23895_C1.tsv.gz\n/home/chenxingjian/PycharmProjects/mnt/mnt_project/FromZerotoOne_CN/data/hist2tscript/Luminal_B/BC23895/BC23895_C2_stdata.tsv.gz ======> /home/chenxingjian/PycharmProjects/mnt/mnt_project/FromZerotoOne_CN/data/hist2tscript/Luminal_B/BC23895/BC23895_C2.tsv.gz\n/home/chenxingjian/PycharmProjects/mnt/mnt_project/FromZerotoOne_CN/data/hist2tscript/Luminal_B/BC23895/BC23895_D1_stdata.tsv.gz ======> /home/chenxingjian/PycharmProjects/mnt/mnt_project/FromZerotoOne_CN/data/hist2tscript/Luminal_B/BC23895/BC23895_D1.tsv.gz\n"
     ]
    }
   ],
   "source": [
    "for oldname in count_path:\n",
    "    newname = oldname.replace(\"_stdata\", \"\")\n",
    "    os.rename(oldname,newname)   \n",
    "    print(oldname,'======>',newname)     "
   ]
  },
  {
   "cell_type": "code",
   "execution_count": 74,
   "metadata": {},
   "outputs": [
    {
     "output_type": "execute_result",
     "data": {
      "text/plain": [
       "['/home/chenxingjian/PycharmProjects/mnt/mnt_project/FromZerotoOne_CN/data/hist2tscript/HER2_luminal/BC24220/spots_BC24220_E1.csv.gz',\n",
       " '/home/chenxingjian/PycharmProjects/mnt/mnt_project/FromZerotoOne_CN/data/hist2tscript/HER2_luminal/BC24220/spots_BC24220_D2.csv.gz',\n",
       " '/home/chenxingjian/PycharmProjects/mnt/mnt_project/FromZerotoOne_CN/data/hist2tscript/HER2_luminal/BC24220/spots_BC24220_E2.csv.gz',\n",
       " '/home/chenxingjian/PycharmProjects/mnt/mnt_project/FromZerotoOne_CN/data/hist2tscript/HER2_luminal/BC23901/spots_BC23901_C2.csv.gz',\n",
       " '/home/chenxingjian/PycharmProjects/mnt/mnt_project/FromZerotoOne_CN/data/hist2tscript/HER2_luminal/BC23901/spots_BC23901_D1.csv.gz',\n",
       " '/home/chenxingjian/PycharmProjects/mnt/mnt_project/FromZerotoOne_CN/data/hist2tscript/HER2_luminal/BC23450/spots_BC23450_D2.csv.gz',\n",
       " '/home/chenxingjian/PycharmProjects/mnt/mnt_project/FromZerotoOne_CN/data/hist2tscript/HER2_luminal/BC23450/spots_BC23450_E2.csv.gz',\n",
       " '/home/chenxingjian/PycharmProjects/mnt/mnt_project/FromZerotoOne_CN/data/hist2tscript/HER2_luminal/BC23450/spots_BC23450_E1.csv.gz',\n",
       " '/home/chenxingjian/PycharmProjects/mnt/mnt_project/FromZerotoOne_CN/data/hist2tscript/HER2_luminal/BC23287/spots_BC23287_C1.csv.gz',\n",
       " '/home/chenxingjian/PycharmProjects/mnt/mnt_project/FromZerotoOne_CN/data/hist2tscript/HER2_luminal/BC23287/spots_BC23287_D1.csv.gz',\n",
       " '/home/chenxingjian/PycharmProjects/mnt/mnt_project/FromZerotoOne_CN/data/hist2tscript/HER2_luminal/BC23287/spots_BC23287_C2.csv.gz',\n",
       " '/home/chenxingjian/PycharmProjects/mnt/mnt_project/FromZerotoOne_CN/data/hist2tscript/HER2_luminal/BC23944/spots_BC23944_E1.csv.gz',\n",
       " '/home/chenxingjian/PycharmProjects/mnt/mnt_project/FromZerotoOne_CN/data/hist2tscript/HER2_luminal/BC23944/spots_BC23944_E2.csv.gz',\n",
       " '/home/chenxingjian/PycharmProjects/mnt/mnt_project/FromZerotoOne_CN/data/hist2tscript/HER2_luminal/BC23944/spots_BC23944_D2.csv.gz',\n",
       " '/home/chenxingjian/PycharmProjects/mnt/mnt_project/FromZerotoOne_CN/data/hist2tscript/HER2_non_luminal/BC23903/spots_BC23903_C1.csv.gz',\n",
       " '/home/chenxingjian/PycharmProjects/mnt/mnt_project/FromZerotoOne_CN/data/hist2tscript/HER2_non_luminal/BC23903/spots_BC23903_D1.csv.gz',\n",
       " '/home/chenxingjian/PycharmProjects/mnt/mnt_project/FromZerotoOne_CN/data/hist2tscript/HER2_non_luminal/BC23903/spots_BC23903_C2.csv.gz',\n",
       " '/home/chenxingjian/PycharmProjects/mnt/mnt_project/FromZerotoOne_CN/data/hist2tscript/HER2_non_luminal/BC23810/spots_BC23810_E1.csv.gz',\n",
       " '/home/chenxingjian/PycharmProjects/mnt/mnt_project/FromZerotoOne_CN/data/hist2tscript/HER2_non_luminal/BC23810/spots_BC23810_D2.csv.gz',\n",
       " '/home/chenxingjian/PycharmProjects/mnt/mnt_project/FromZerotoOne_CN/data/hist2tscript/HER2_non_luminal/BC23810/spots_BC23810_E2.csv.gz',\n",
       " '/home/chenxingjian/PycharmProjects/mnt/mnt_project/FromZerotoOne_CN/data/hist2tscript/HER2_non_luminal/BC24105/spots_BC24105_C2.csv.gz',\n",
       " '/home/chenxingjian/PycharmProjects/mnt/mnt_project/FromZerotoOne_CN/data/hist2tscript/HER2_non_luminal/BC24105/spots_BC24105_D1.csv.gz',\n",
       " '/home/chenxingjian/PycharmProjects/mnt/mnt_project/FromZerotoOne_CN/data/hist2tscript/HER2_non_luminal/BC24105/spots_BC24105_C1.csv.gz',\n",
       " '/home/chenxingjian/PycharmProjects/mnt/mnt_project/FromZerotoOne_CN/data/hist2tscript/HER2_non_luminal/BC24044/spots_BC24044_E1.csv.gz',\n",
       " '/home/chenxingjian/PycharmProjects/mnt/mnt_project/FromZerotoOne_CN/data/hist2tscript/HER2_non_luminal/BC24044/spots_BC24044_E2.csv.gz',\n",
       " '/home/chenxingjian/PycharmProjects/mnt/mnt_project/FromZerotoOne_CN/data/hist2tscript/HER2_non_luminal/BC24044/spots_BC24044_D2.csv.gz',\n",
       " '/home/chenxingjian/PycharmProjects/mnt/mnt_project/FromZerotoOne_CN/data/hist2tscript/HER2_non_luminal/BC23567/spots_BC23567_E2.csv.gz',\n",
       " '/home/chenxingjian/PycharmProjects/mnt/mnt_project/FromZerotoOne_CN/data/hist2tscript/HER2_non_luminal/BC23567/spots_BC23567_D2.csv.gz',\n",
       " '/home/chenxingjian/PycharmProjects/mnt/mnt_project/FromZerotoOne_CN/data/hist2tscript/HER2_non_luminal/BC23567/spots_BC23567_E1.csv.gz',\n",
       " '/home/chenxingjian/PycharmProjects/mnt/mnt_project/FromZerotoOne_CN/data/hist2tscript/Luminal_A/BC23269/spots_BC23269_C2.csv.gz',\n",
       " '/home/chenxingjian/PycharmProjects/mnt/mnt_project/FromZerotoOne_CN/data/hist2tscript/Luminal_A/BC23269/spots_BC23269_C1.csv.gz',\n",
       " '/home/chenxingjian/PycharmProjects/mnt/mnt_project/FromZerotoOne_CN/data/hist2tscript/Luminal_A/BC23269/spots_BC23269_D1.csv.gz',\n",
       " '/home/chenxingjian/PycharmProjects/mnt/mnt_project/FromZerotoOne_CN/data/hist2tscript/Luminal_A/BC23268/spots_BC23268_C1.csv.gz',\n",
       " '/home/chenxingjian/PycharmProjects/mnt/mnt_project/FromZerotoOne_CN/data/hist2tscript/Luminal_A/BC23268/spots_BC23268_D1.csv.gz',\n",
       " '/home/chenxingjian/PycharmProjects/mnt/mnt_project/FromZerotoOne_CN/data/hist2tscript/Luminal_A/BC23268/spots_BC23268_C2.csv.gz',\n",
       " '/home/chenxingjian/PycharmProjects/mnt/mnt_project/FromZerotoOne_CN/data/hist2tscript/Luminal_A/BC23272/spots_BC23272_E1.csv.gz',\n",
       " '/home/chenxingjian/PycharmProjects/mnt/mnt_project/FromZerotoOne_CN/data/hist2tscript/Luminal_A/BC23272/spots_BC23272_D2.csv.gz',\n",
       " '/home/chenxingjian/PycharmProjects/mnt/mnt_project/FromZerotoOne_CN/data/hist2tscript/Luminal_A/BC23272/spots_BC23272_E2.csv.gz',\n",
       " '/home/chenxingjian/PycharmProjects/mnt/mnt_project/FromZerotoOne_CN/data/hist2tscript/Luminal_A/BC24223/spots_BC24223_E1.csv.gz',\n",
       " '/home/chenxingjian/PycharmProjects/mnt/mnt_project/FromZerotoOne_CN/data/hist2tscript/Luminal_A/BC24223/spots_BC24223_D2.csv.gz',\n",
       " '/home/chenxingjian/PycharmProjects/mnt/mnt_project/FromZerotoOne_CN/data/hist2tscript/Luminal_A/BC24223/spots_BC24223_E2.csv.gz',\n",
       " '/home/chenxingjian/PycharmProjects/mnt/mnt_project/FromZerotoOne_CN/data/hist2tscript/TNBC/BC23377/spots_BC23377_C2.csv.gz',\n",
       " '/home/chenxingjian/PycharmProjects/mnt/mnt_project/FromZerotoOne_CN/data/hist2tscript/TNBC/BC23377/spots_BC23377_D1.csv.gz',\n",
       " '/home/chenxingjian/PycharmProjects/mnt/mnt_project/FromZerotoOne_CN/data/hist2tscript/TNBC/BC23377/spots_BC23377_C1.csv.gz',\n",
       " '/home/chenxingjian/PycharmProjects/mnt/mnt_project/FromZerotoOne_CN/data/hist2tscript/TNBC/BC23288/spots_BC23288_E2.csv.gz',\n",
       " '/home/chenxingjian/PycharmProjects/mnt/mnt_project/FromZerotoOne_CN/data/hist2tscript/TNBC/BC23288/spots_BC23288_E1.csv.gz',\n",
       " '/home/chenxingjian/PycharmProjects/mnt/mnt_project/FromZerotoOne_CN/data/hist2tscript/TNBC/BC23288/spots_BC23288_D2.csv.gz',\n",
       " '/home/chenxingjian/PycharmProjects/mnt/mnt_project/FromZerotoOne_CN/data/hist2tscript/TNBC/BC23209/spots_BC23209_C2.csv.gz',\n",
       " '/home/chenxingjian/PycharmProjects/mnt/mnt_project/FromZerotoOne_CN/data/hist2tscript/TNBC/BC23209/spots_BC23209_D1.csv.gz',\n",
       " '/home/chenxingjian/PycharmProjects/mnt/mnt_project/FromZerotoOne_CN/data/hist2tscript/TNBC/BC23209/spots_BC23209_C1.csv.gz',\n",
       " '/home/chenxingjian/PycharmProjects/mnt/mnt_project/FromZerotoOne_CN/data/hist2tscript/TNBC/BC23803/spots_BC23803_D2.csv.gz',\n",
       " '/home/chenxingjian/PycharmProjects/mnt/mnt_project/FromZerotoOne_CN/data/hist2tscript/TNBC/BC23803/spots_BC23803_E1.csv.gz',\n",
       " '/home/chenxingjian/PycharmProjects/mnt/mnt_project/FromZerotoOne_CN/data/hist2tscript/TNBC/BC23803/spots_BC23803_E2.csv.gz',\n",
       " '/home/chenxingjian/PycharmProjects/mnt/mnt_project/FromZerotoOne_CN/data/hist2tscript/Luminal_B/BC23506/spots_BC23506_D1.csv.gz',\n",
       " '/home/chenxingjian/PycharmProjects/mnt/mnt_project/FromZerotoOne_CN/data/hist2tscript/Luminal_B/BC23506/spots_BC23506_C2.csv.gz',\n",
       " '/home/chenxingjian/PycharmProjects/mnt/mnt_project/FromZerotoOne_CN/data/hist2tscript/Luminal_B/BC23506/spots_BC23506_C1.csv.gz',\n",
       " '/home/chenxingjian/PycharmProjects/mnt/mnt_project/FromZerotoOne_CN/data/hist2tscript/Luminal_B/BC23508/spots_BC23508_E2.csv.gz',\n",
       " '/home/chenxingjian/PycharmProjects/mnt/mnt_project/FromZerotoOne_CN/data/hist2tscript/Luminal_B/BC23508/spots_BC23508_D2.csv.gz',\n",
       " '/home/chenxingjian/PycharmProjects/mnt/mnt_project/FromZerotoOne_CN/data/hist2tscript/Luminal_B/BC23508/spots_BC23508_E1.csv.gz',\n",
       " '/home/chenxingjian/PycharmProjects/mnt/mnt_project/FromZerotoOne_CN/data/hist2tscript/Luminal_B/BC23277/spots_BC23277_E2.csv.gz',\n",
       " '/home/chenxingjian/PycharmProjects/mnt/mnt_project/FromZerotoOne_CN/data/hist2tscript/Luminal_B/BC23277/spots_BC23277_D2.csv.gz',\n",
       " '/home/chenxingjian/PycharmProjects/mnt/mnt_project/FromZerotoOne_CN/data/hist2tscript/Luminal_B/BC23277/spots_BC23277_E1.csv.gz',\n",
       " '/home/chenxingjian/PycharmProjects/mnt/mnt_project/FromZerotoOne_CN/data/hist2tscript/Luminal_B/BC23270/spots_BC23270_E1.csv.gz',\n",
       " '/home/chenxingjian/PycharmProjects/mnt/mnt_project/FromZerotoOne_CN/data/hist2tscript/Luminal_B/BC23270/spots_BC23270_D2.csv.gz',\n",
       " '/home/chenxingjian/PycharmProjects/mnt/mnt_project/FromZerotoOne_CN/data/hist2tscript/Luminal_B/BC23270/spots_BC23270_E2.csv.gz',\n",
       " '/home/chenxingjian/PycharmProjects/mnt/mnt_project/FromZerotoOne_CN/data/hist2tscript/Luminal_B/BC23895/spots_BC23895_D1.csv.gz',\n",
       " '/home/chenxingjian/PycharmProjects/mnt/mnt_project/FromZerotoOne_CN/data/hist2tscript/Luminal_B/BC23895/spots_BC23895_C1.csv.gz',\n",
       " '/home/chenxingjian/PycharmProjects/mnt/mnt_project/FromZerotoOne_CN/data/hist2tscript/Luminal_B/BC23895/spots_BC23895_C2.csv.gz']"
      ]
     },
     "metadata": {},
     "execution_count": 74
    }
   ],
   "source": [
    "spot_path = []\n",
    "for j,k,l in os.walk(current_path):\n",
    "    for f in l:\n",
    "        if 'spots_' in f: \n",
    "            spot_path.append(j+'/'+f)\n",
    "spot_path         "
   ]
  },
  {
   "cell_type": "code",
   "execution_count": 75,
   "metadata": {},
   "outputs": [
    {
     "output_type": "stream",
     "name": "stdout",
     "text": [
      "/home/chenxingjian/PycharmProjects/mnt/mnt_project/FromZerotoOne_CN/data/hist2tscript/HER2_luminal/BC24220/spots_BC24220_E1.csv.gz ======> /home/chenxingjian/PycharmProjects/mnt/mnt_project/FromZerotoOne_CN/data/hist2tscript/HER2_luminal/BC24220/BC24220_E1.spots.gz\n/home/chenxingjian/PycharmProjects/mnt/mnt_project/FromZerotoOne_CN/data/hist2tscript/HER2_luminal/BC24220/spots_BC24220_D2.csv.gz ======> /home/chenxingjian/PycharmProjects/mnt/mnt_project/FromZerotoOne_CN/data/hist2tscript/HER2_luminal/BC24220/BC24220_D2.spots.gz\n/home/chenxingjian/PycharmProjects/mnt/mnt_project/FromZerotoOne_CN/data/hist2tscript/HER2_luminal/BC24220/spots_BC24220_E2.csv.gz ======> /home/chenxingjian/PycharmProjects/mnt/mnt_project/FromZerotoOne_CN/data/hist2tscript/HER2_luminal/BC24220/BC24220_E2.spots.gz\n/home/chenxingjian/PycharmProjects/mnt/mnt_project/FromZerotoOne_CN/data/hist2tscript/HER2_luminal/BC23901/spots_BC23901_C2.csv.gz ======> /home/chenxingjian/PycharmProjects/mnt/mnt_project/FromZerotoOne_CN/data/hist2tscript/HER2_luminal/BC23901/BC23901_C2.spots.gz\n/home/chenxingjian/PycharmProjects/mnt/mnt_project/FromZerotoOne_CN/data/hist2tscript/HER2_luminal/BC23901/spots_BC23901_D1.csv.gz ======> /home/chenxingjian/PycharmProjects/mnt/mnt_project/FromZerotoOne_CN/data/hist2tscript/HER2_luminal/BC23901/BC23901_D1.spots.gz\n/home/chenxingjian/PycharmProjects/mnt/mnt_project/FromZerotoOne_CN/data/hist2tscript/HER2_luminal/BC23450/spots_BC23450_D2.csv.gz ======> /home/chenxingjian/PycharmProjects/mnt/mnt_project/FromZerotoOne_CN/data/hist2tscript/HER2_luminal/BC23450/BC23450_D2.spots.gz\n/home/chenxingjian/PycharmProjects/mnt/mnt_project/FromZerotoOne_CN/data/hist2tscript/HER2_luminal/BC23450/spots_BC23450_E2.csv.gz ======> /home/chenxingjian/PycharmProjects/mnt/mnt_project/FromZerotoOne_CN/data/hist2tscript/HER2_luminal/BC23450/BC23450_E2.spots.gz\n/home/chenxingjian/PycharmProjects/mnt/mnt_project/FromZerotoOne_CN/data/hist2tscript/HER2_luminal/BC23450/spots_BC23450_E1.csv.gz ======> /home/chenxingjian/PycharmProjects/mnt/mnt_project/FromZerotoOne_CN/data/hist2tscript/HER2_luminal/BC23450/BC23450_E1.spots.gz\n/home/chenxingjian/PycharmProjects/mnt/mnt_project/FromZerotoOne_CN/data/hist2tscript/HER2_luminal/BC23287/spots_BC23287_C1.csv.gz ======> /home/chenxingjian/PycharmProjects/mnt/mnt_project/FromZerotoOne_CN/data/hist2tscript/HER2_luminal/BC23287/BC23287_C1.spots.gz\n/home/chenxingjian/PycharmProjects/mnt/mnt_project/FromZerotoOne_CN/data/hist2tscript/HER2_luminal/BC23287/spots_BC23287_D1.csv.gz ======> /home/chenxingjian/PycharmProjects/mnt/mnt_project/FromZerotoOne_CN/data/hist2tscript/HER2_luminal/BC23287/BC23287_D1.spots.gz\n/home/chenxingjian/PycharmProjects/mnt/mnt_project/FromZerotoOne_CN/data/hist2tscript/HER2_luminal/BC23287/spots_BC23287_C2.csv.gz ======> /home/chenxingjian/PycharmProjects/mnt/mnt_project/FromZerotoOne_CN/data/hist2tscript/HER2_luminal/BC23287/BC23287_C2.spots.gz\n/home/chenxingjian/PycharmProjects/mnt/mnt_project/FromZerotoOne_CN/data/hist2tscript/HER2_luminal/BC23944/spots_BC23944_E1.csv.gz ======> /home/chenxingjian/PycharmProjects/mnt/mnt_project/FromZerotoOne_CN/data/hist2tscript/HER2_luminal/BC23944/BC23944_E1.spots.gz\n/home/chenxingjian/PycharmProjects/mnt/mnt_project/FromZerotoOne_CN/data/hist2tscript/HER2_luminal/BC23944/spots_BC23944_E2.csv.gz ======> /home/chenxingjian/PycharmProjects/mnt/mnt_project/FromZerotoOne_CN/data/hist2tscript/HER2_luminal/BC23944/BC23944_E2.spots.gz\n/home/chenxingjian/PycharmProjects/mnt/mnt_project/FromZerotoOne_CN/data/hist2tscript/HER2_luminal/BC23944/spots_BC23944_D2.csv.gz ======> /home/chenxingjian/PycharmProjects/mnt/mnt_project/FromZerotoOne_CN/data/hist2tscript/HER2_luminal/BC23944/BC23944_D2.spots.gz\n/home/chenxingjian/PycharmProjects/mnt/mnt_project/FromZerotoOne_CN/data/hist2tscript/HER2_non_luminal/BC23903/spots_BC23903_C1.csv.gz ======> /home/chenxingjian/PycharmProjects/mnt/mnt_project/FromZerotoOne_CN/data/hist2tscript/HER2_non_luminal/BC23903/BC23903_C1.spots.gz\n/home/chenxingjian/PycharmProjects/mnt/mnt_project/FromZerotoOne_CN/data/hist2tscript/HER2_non_luminal/BC23903/spots_BC23903_D1.csv.gz ======> /home/chenxingjian/PycharmProjects/mnt/mnt_project/FromZerotoOne_CN/data/hist2tscript/HER2_non_luminal/BC23903/BC23903_D1.spots.gz\n/home/chenxingjian/PycharmProjects/mnt/mnt_project/FromZerotoOne_CN/data/hist2tscript/HER2_non_luminal/BC23903/spots_BC23903_C2.csv.gz ======> /home/chenxingjian/PycharmProjects/mnt/mnt_project/FromZerotoOne_CN/data/hist2tscript/HER2_non_luminal/BC23903/BC23903_C2.spots.gz\n/home/chenxingjian/PycharmProjects/mnt/mnt_project/FromZerotoOne_CN/data/hist2tscript/HER2_non_luminal/BC23810/spots_BC23810_E1.csv.gz ======> /home/chenxingjian/PycharmProjects/mnt/mnt_project/FromZerotoOne_CN/data/hist2tscript/HER2_non_luminal/BC23810/BC23810_E1.spots.gz\n/home/chenxingjian/PycharmProjects/mnt/mnt_project/FromZerotoOne_CN/data/hist2tscript/HER2_non_luminal/BC23810/spots_BC23810_D2.csv.gz ======> /home/chenxingjian/PycharmProjects/mnt/mnt_project/FromZerotoOne_CN/data/hist2tscript/HER2_non_luminal/BC23810/BC23810_D2.spots.gz\n/home/chenxingjian/PycharmProjects/mnt/mnt_project/FromZerotoOne_CN/data/hist2tscript/HER2_non_luminal/BC23810/spots_BC23810_E2.csv.gz ======> /home/chenxingjian/PycharmProjects/mnt/mnt_project/FromZerotoOne_CN/data/hist2tscript/HER2_non_luminal/BC23810/BC23810_E2.spots.gz\n/home/chenxingjian/PycharmProjects/mnt/mnt_project/FromZerotoOne_CN/data/hist2tscript/HER2_non_luminal/BC24105/spots_BC24105_C2.csv.gz ======> /home/chenxingjian/PycharmProjects/mnt/mnt_project/FromZerotoOne_CN/data/hist2tscript/HER2_non_luminal/BC24105/BC24105_C2.spots.gz\n/home/chenxingjian/PycharmProjects/mnt/mnt_project/FromZerotoOne_CN/data/hist2tscript/HER2_non_luminal/BC24105/spots_BC24105_D1.csv.gz ======> /home/chenxingjian/PycharmProjects/mnt/mnt_project/FromZerotoOne_CN/data/hist2tscript/HER2_non_luminal/BC24105/BC24105_D1.spots.gz\n/home/chenxingjian/PycharmProjects/mnt/mnt_project/FromZerotoOne_CN/data/hist2tscript/HER2_non_luminal/BC24105/spots_BC24105_C1.csv.gz ======> /home/chenxingjian/PycharmProjects/mnt/mnt_project/FromZerotoOne_CN/data/hist2tscript/HER2_non_luminal/BC24105/BC24105_C1.spots.gz\n/home/chenxingjian/PycharmProjects/mnt/mnt_project/FromZerotoOne_CN/data/hist2tscript/HER2_non_luminal/BC24044/spots_BC24044_E1.csv.gz ======> /home/chenxingjian/PycharmProjects/mnt/mnt_project/FromZerotoOne_CN/data/hist2tscript/HER2_non_luminal/BC24044/BC24044_E1.spots.gz\n/home/chenxingjian/PycharmProjects/mnt/mnt_project/FromZerotoOne_CN/data/hist2tscript/HER2_non_luminal/BC24044/spots_BC24044_E2.csv.gz ======> /home/chenxingjian/PycharmProjects/mnt/mnt_project/FromZerotoOne_CN/data/hist2tscript/HER2_non_luminal/BC24044/BC24044_E2.spots.gz\n/home/chenxingjian/PycharmProjects/mnt/mnt_project/FromZerotoOne_CN/data/hist2tscript/HER2_non_luminal/BC24044/spots_BC24044_D2.csv.gz ======> /home/chenxingjian/PycharmProjects/mnt/mnt_project/FromZerotoOne_CN/data/hist2tscript/HER2_non_luminal/BC24044/BC24044_D2.spots.gz\n/home/chenxingjian/PycharmProjects/mnt/mnt_project/FromZerotoOne_CN/data/hist2tscript/HER2_non_luminal/BC23567/spots_BC23567_E2.csv.gz ======> /home/chenxingjian/PycharmProjects/mnt/mnt_project/FromZerotoOne_CN/data/hist2tscript/HER2_non_luminal/BC23567/BC23567_E2.spots.gz\n/home/chenxingjian/PycharmProjects/mnt/mnt_project/FromZerotoOne_CN/data/hist2tscript/HER2_non_luminal/BC23567/spots_BC23567_D2.csv.gz ======> /home/chenxingjian/PycharmProjects/mnt/mnt_project/FromZerotoOne_CN/data/hist2tscript/HER2_non_luminal/BC23567/BC23567_D2.spots.gz\n/home/chenxingjian/PycharmProjects/mnt/mnt_project/FromZerotoOne_CN/data/hist2tscript/HER2_non_luminal/BC23567/spots_BC23567_E1.csv.gz ======> /home/chenxingjian/PycharmProjects/mnt/mnt_project/FromZerotoOne_CN/data/hist2tscript/HER2_non_luminal/BC23567/BC23567_E1.spots.gz\n/home/chenxingjian/PycharmProjects/mnt/mnt_project/FromZerotoOne_CN/data/hist2tscript/Luminal_A/BC23269/spots_BC23269_C2.csv.gz ======> /home/chenxingjian/PycharmProjects/mnt/mnt_project/FromZerotoOne_CN/data/hist2tscript/Luminal_A/BC23269/BC23269_C2.spots.gz\n/home/chenxingjian/PycharmProjects/mnt/mnt_project/FromZerotoOne_CN/data/hist2tscript/Luminal_A/BC23269/spots_BC23269_C1.csv.gz ======> /home/chenxingjian/PycharmProjects/mnt/mnt_project/FromZerotoOne_CN/data/hist2tscript/Luminal_A/BC23269/BC23269_C1.spots.gz\n/home/chenxingjian/PycharmProjects/mnt/mnt_project/FromZerotoOne_CN/data/hist2tscript/Luminal_A/BC23269/spots_BC23269_D1.csv.gz ======> /home/chenxingjian/PycharmProjects/mnt/mnt_project/FromZerotoOne_CN/data/hist2tscript/Luminal_A/BC23269/BC23269_D1.spots.gz\n/home/chenxingjian/PycharmProjects/mnt/mnt_project/FromZerotoOne_CN/data/hist2tscript/Luminal_A/BC23268/spots_BC23268_C1.csv.gz ======> /home/chenxingjian/PycharmProjects/mnt/mnt_project/FromZerotoOne_CN/data/hist2tscript/Luminal_A/BC23268/BC23268_C1.spots.gz\n/home/chenxingjian/PycharmProjects/mnt/mnt_project/FromZerotoOne_CN/data/hist2tscript/Luminal_A/BC23268/spots_BC23268_D1.csv.gz ======> /home/chenxingjian/PycharmProjects/mnt/mnt_project/FromZerotoOne_CN/data/hist2tscript/Luminal_A/BC23268/BC23268_D1.spots.gz\n/home/chenxingjian/PycharmProjects/mnt/mnt_project/FromZerotoOne_CN/data/hist2tscript/Luminal_A/BC23268/spots_BC23268_C2.csv.gz ======> /home/chenxingjian/PycharmProjects/mnt/mnt_project/FromZerotoOne_CN/data/hist2tscript/Luminal_A/BC23268/BC23268_C2.spots.gz\n/home/chenxingjian/PycharmProjects/mnt/mnt_project/FromZerotoOne_CN/data/hist2tscript/Luminal_A/BC23272/spots_BC23272_E1.csv.gz ======> /home/chenxingjian/PycharmProjects/mnt/mnt_project/FromZerotoOne_CN/data/hist2tscript/Luminal_A/BC23272/BC23272_E1.spots.gz\n/home/chenxingjian/PycharmProjects/mnt/mnt_project/FromZerotoOne_CN/data/hist2tscript/Luminal_A/BC23272/spots_BC23272_D2.csv.gz ======> /home/chenxingjian/PycharmProjects/mnt/mnt_project/FromZerotoOne_CN/data/hist2tscript/Luminal_A/BC23272/BC23272_D2.spots.gz\n/home/chenxingjian/PycharmProjects/mnt/mnt_project/FromZerotoOne_CN/data/hist2tscript/Luminal_A/BC23272/spots_BC23272_E2.csv.gz ======> /home/chenxingjian/PycharmProjects/mnt/mnt_project/FromZerotoOne_CN/data/hist2tscript/Luminal_A/BC23272/BC23272_E2.spots.gz\n/home/chenxingjian/PycharmProjects/mnt/mnt_project/FromZerotoOne_CN/data/hist2tscript/Luminal_A/BC24223/spots_BC24223_E1.csv.gz ======> /home/chenxingjian/PycharmProjects/mnt/mnt_project/FromZerotoOne_CN/data/hist2tscript/Luminal_A/BC24223/BC24223_E1.spots.gz\n/home/chenxingjian/PycharmProjects/mnt/mnt_project/FromZerotoOne_CN/data/hist2tscript/Luminal_A/BC24223/spots_BC24223_D2.csv.gz ======> /home/chenxingjian/PycharmProjects/mnt/mnt_project/FromZerotoOne_CN/data/hist2tscript/Luminal_A/BC24223/BC24223_D2.spots.gz\n/home/chenxingjian/PycharmProjects/mnt/mnt_project/FromZerotoOne_CN/data/hist2tscript/Luminal_A/BC24223/spots_BC24223_E2.csv.gz ======> /home/chenxingjian/PycharmProjects/mnt/mnt_project/FromZerotoOne_CN/data/hist2tscript/Luminal_A/BC24223/BC24223_E2.spots.gz\n/home/chenxingjian/PycharmProjects/mnt/mnt_project/FromZerotoOne_CN/data/hist2tscript/TNBC/BC23377/spots_BC23377_C2.csv.gz ======> /home/chenxingjian/PycharmProjects/mnt/mnt_project/FromZerotoOne_CN/data/hist2tscript/TNBC/BC23377/BC23377_C2.spots.gz\n/home/chenxingjian/PycharmProjects/mnt/mnt_project/FromZerotoOne_CN/data/hist2tscript/TNBC/BC23377/spots_BC23377_D1.csv.gz ======> /home/chenxingjian/PycharmProjects/mnt/mnt_project/FromZerotoOne_CN/data/hist2tscript/TNBC/BC23377/BC23377_D1.spots.gz\n/home/chenxingjian/PycharmProjects/mnt/mnt_project/FromZerotoOne_CN/data/hist2tscript/TNBC/BC23377/spots_BC23377_C1.csv.gz ======> /home/chenxingjian/PycharmProjects/mnt/mnt_project/FromZerotoOne_CN/data/hist2tscript/TNBC/BC23377/BC23377_C1.spots.gz\n/home/chenxingjian/PycharmProjects/mnt/mnt_project/FromZerotoOne_CN/data/hist2tscript/TNBC/BC23288/spots_BC23288_E2.csv.gz ======> /home/chenxingjian/PycharmProjects/mnt/mnt_project/FromZerotoOne_CN/data/hist2tscript/TNBC/BC23288/BC23288_E2.spots.gz\n/home/chenxingjian/PycharmProjects/mnt/mnt_project/FromZerotoOne_CN/data/hist2tscript/TNBC/BC23288/spots_BC23288_E1.csv.gz ======> /home/chenxingjian/PycharmProjects/mnt/mnt_project/FromZerotoOne_CN/data/hist2tscript/TNBC/BC23288/BC23288_E1.spots.gz\n/home/chenxingjian/PycharmProjects/mnt/mnt_project/FromZerotoOne_CN/data/hist2tscript/TNBC/BC23288/spots_BC23288_D2.csv.gz ======> /home/chenxingjian/PycharmProjects/mnt/mnt_project/FromZerotoOne_CN/data/hist2tscript/TNBC/BC23288/BC23288_D2.spots.gz\n/home/chenxingjian/PycharmProjects/mnt/mnt_project/FromZerotoOne_CN/data/hist2tscript/TNBC/BC23209/spots_BC23209_C2.csv.gz ======> /home/chenxingjian/PycharmProjects/mnt/mnt_project/FromZerotoOne_CN/data/hist2tscript/TNBC/BC23209/BC23209_C2.spots.gz\n/home/chenxingjian/PycharmProjects/mnt/mnt_project/FromZerotoOne_CN/data/hist2tscript/TNBC/BC23209/spots_BC23209_D1.csv.gz ======> /home/chenxingjian/PycharmProjects/mnt/mnt_project/FromZerotoOne_CN/data/hist2tscript/TNBC/BC23209/BC23209_D1.spots.gz\n/home/chenxingjian/PycharmProjects/mnt/mnt_project/FromZerotoOne_CN/data/hist2tscript/TNBC/BC23209/spots_BC23209_C1.csv.gz ======> /home/chenxingjian/PycharmProjects/mnt/mnt_project/FromZerotoOne_CN/data/hist2tscript/TNBC/BC23209/BC23209_C1.spots.gz\n/home/chenxingjian/PycharmProjects/mnt/mnt_project/FromZerotoOne_CN/data/hist2tscript/TNBC/BC23803/spots_BC23803_D2.csv.gz ======> /home/chenxingjian/PycharmProjects/mnt/mnt_project/FromZerotoOne_CN/data/hist2tscript/TNBC/BC23803/BC23803_D2.spots.gz\n/home/chenxingjian/PycharmProjects/mnt/mnt_project/FromZerotoOne_CN/data/hist2tscript/TNBC/BC23803/spots_BC23803_E1.csv.gz ======> /home/chenxingjian/PycharmProjects/mnt/mnt_project/FromZerotoOne_CN/data/hist2tscript/TNBC/BC23803/BC23803_E1.spots.gz\n/home/chenxingjian/PycharmProjects/mnt/mnt_project/FromZerotoOne_CN/data/hist2tscript/TNBC/BC23803/spots_BC23803_E2.csv.gz ======> /home/chenxingjian/PycharmProjects/mnt/mnt_project/FromZerotoOne_CN/data/hist2tscript/TNBC/BC23803/BC23803_E2.spots.gz\n/home/chenxingjian/PycharmProjects/mnt/mnt_project/FromZerotoOne_CN/data/hist2tscript/Luminal_B/BC23506/spots_BC23506_D1.csv.gz ======> /home/chenxingjian/PycharmProjects/mnt/mnt_project/FromZerotoOne_CN/data/hist2tscript/Luminal_B/BC23506/BC23506_D1.spots.gz\n/home/chenxingjian/PycharmProjects/mnt/mnt_project/FromZerotoOne_CN/data/hist2tscript/Luminal_B/BC23506/spots_BC23506_C2.csv.gz ======> /home/chenxingjian/PycharmProjects/mnt/mnt_project/FromZerotoOne_CN/data/hist2tscript/Luminal_B/BC23506/BC23506_C2.spots.gz\n/home/chenxingjian/PycharmProjects/mnt/mnt_project/FromZerotoOne_CN/data/hist2tscript/Luminal_B/BC23506/spots_BC23506_C1.csv.gz ======> /home/chenxingjian/PycharmProjects/mnt/mnt_project/FromZerotoOne_CN/data/hist2tscript/Luminal_B/BC23506/BC23506_C1.spots.gz\n/home/chenxingjian/PycharmProjects/mnt/mnt_project/FromZerotoOne_CN/data/hist2tscript/Luminal_B/BC23508/spots_BC23508_E2.csv.gz ======> /home/chenxingjian/PycharmProjects/mnt/mnt_project/FromZerotoOne_CN/data/hist2tscript/Luminal_B/BC23508/BC23508_E2.spots.gz\n/home/chenxingjian/PycharmProjects/mnt/mnt_project/FromZerotoOne_CN/data/hist2tscript/Luminal_B/BC23508/spots_BC23508_D2.csv.gz ======> /home/chenxingjian/PycharmProjects/mnt/mnt_project/FromZerotoOne_CN/data/hist2tscript/Luminal_B/BC23508/BC23508_D2.spots.gz\n/home/chenxingjian/PycharmProjects/mnt/mnt_project/FromZerotoOne_CN/data/hist2tscript/Luminal_B/BC23508/spots_BC23508_E1.csv.gz ======> /home/chenxingjian/PycharmProjects/mnt/mnt_project/FromZerotoOne_CN/data/hist2tscript/Luminal_B/BC23508/BC23508_E1.spots.gz\n/home/chenxingjian/PycharmProjects/mnt/mnt_project/FromZerotoOne_CN/data/hist2tscript/Luminal_B/BC23277/spots_BC23277_E2.csv.gz ======> /home/chenxingjian/PycharmProjects/mnt/mnt_project/FromZerotoOne_CN/data/hist2tscript/Luminal_B/BC23277/BC23277_E2.spots.gz\n/home/chenxingjian/PycharmProjects/mnt/mnt_project/FromZerotoOne_CN/data/hist2tscript/Luminal_B/BC23277/spots_BC23277_D2.csv.gz ======> /home/chenxingjian/PycharmProjects/mnt/mnt_project/FromZerotoOne_CN/data/hist2tscript/Luminal_B/BC23277/BC23277_D2.spots.gz\n/home/chenxingjian/PycharmProjects/mnt/mnt_project/FromZerotoOne_CN/data/hist2tscript/Luminal_B/BC23277/spots_BC23277_E1.csv.gz ======> /home/chenxingjian/PycharmProjects/mnt/mnt_project/FromZerotoOne_CN/data/hist2tscript/Luminal_B/BC23277/BC23277_E1.spots.gz\n/home/chenxingjian/PycharmProjects/mnt/mnt_project/FromZerotoOne_CN/data/hist2tscript/Luminal_B/BC23270/spots_BC23270_E1.csv.gz ======> /home/chenxingjian/PycharmProjects/mnt/mnt_project/FromZerotoOne_CN/data/hist2tscript/Luminal_B/BC23270/BC23270_E1.spots.gz\n/home/chenxingjian/PycharmProjects/mnt/mnt_project/FromZerotoOne_CN/data/hist2tscript/Luminal_B/BC23270/spots_BC23270_D2.csv.gz ======> /home/chenxingjian/PycharmProjects/mnt/mnt_project/FromZerotoOne_CN/data/hist2tscript/Luminal_B/BC23270/BC23270_D2.spots.gz\n/home/chenxingjian/PycharmProjects/mnt/mnt_project/FromZerotoOne_CN/data/hist2tscript/Luminal_B/BC23270/spots_BC23270_E2.csv.gz ======> /home/chenxingjian/PycharmProjects/mnt/mnt_project/FromZerotoOne_CN/data/hist2tscript/Luminal_B/BC23270/BC23270_E2.spots.gz\n/home/chenxingjian/PycharmProjects/mnt/mnt_project/FromZerotoOne_CN/data/hist2tscript/Luminal_B/BC23895/spots_BC23895_D1.csv.gz ======> /home/chenxingjian/PycharmProjects/mnt/mnt_project/FromZerotoOne_CN/data/hist2tscript/Luminal_B/BC23895/BC23895_D1.spots.gz\n/home/chenxingjian/PycharmProjects/mnt/mnt_project/FromZerotoOne_CN/data/hist2tscript/Luminal_B/BC23895/spots_BC23895_C1.csv.gz ======> /home/chenxingjian/PycharmProjects/mnt/mnt_project/FromZerotoOne_CN/data/hist2tscript/Luminal_B/BC23895/BC23895_C1.spots.gz\n/home/chenxingjian/PycharmProjects/mnt/mnt_project/FromZerotoOne_CN/data/hist2tscript/Luminal_B/BC23895/spots_BC23895_C2.csv.gz ======> /home/chenxingjian/PycharmProjects/mnt/mnt_project/FromZerotoOne_CN/data/hist2tscript/Luminal_B/BC23895/BC23895_C2.spots.gz\n"
     ]
    }
   ],
   "source": [
    "for oldname in spot_path:\n",
    "    newname = oldname.replace(\"spots_\", \"\")\n",
    "    newname = newname.replace(\"csv\", \"spots\")\n",
    "    os.rename(oldname,newname)   \n",
    "    print(oldname,'======>',newname)     "
   ]
  },
  {
   "cell_type": "code",
   "execution_count": null,
   "metadata": {},
   "outputs": [],
   "source": []
  },
  {
   "cell_type": "code",
   "execution_count": null,
   "metadata": {},
   "outputs": [],
   "source": []
  },
  {
   "cell_type": "code",
   "execution_count": null,
   "metadata": {},
   "outputs": [],
   "source": []
  }
 ],
 "metadata": {
  "kernelspec": {
   "name": "python388jvsc74a57bd0004439b3fc16fce97f328916ec0ef87256d6f4576e44459c7aed1e61027bf400",
   "display_name": "Python 3.8.8 64-bit ('pytorch': conda)"
  },
  "language_info": {
   "codemirror_mode": {
    "name": "ipython",
    "version": 3
   },
   "file_extension": ".py",
   "mimetype": "text/x-python",
   "name": "python",
   "nbconvert_exporter": "python",
   "pygments_lexer": "ipython3",
   "version": "3.8.8"
  }
 },
 "nbformat": 4,
 "nbformat_minor": 2
}